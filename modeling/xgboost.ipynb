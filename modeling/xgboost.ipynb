{
 "cells": [
  {
   "cell_type": "markdown",
   "id": "b457e7ce",
   "metadata": {},
   "source": [
    "!pip install xgboost"
   ]
  },
  {
   "cell_type": "code",
   "execution_count": 27,
   "id": "612099e7",
   "metadata": {},
   "outputs": [],
   "source": [
    "import xgboost as xgb\n",
    "from xgboost import plot_importance\n",
    "import pandas as pd\n",
    "import numpy as np\n",
    "from sklearn.datasets import load_breast_cancer\n",
    "from sklearn.model_selection import train_test_split\n",
    "import warnings\n",
    "\n",
    "\n",
    "# matplotlib 한글 폰트 오류 문제 해결\n",
    "# font_manager는 경로와 이름을 가지고 폰트를 지정\n",
    "# rc는 폰트를 적용\n",
    "from matplotlib import font_manager, rc\n",
    "font_path = \"./malgun.ttf\"\n",
    "font_name = font_manager.FontProperties(fname=font_path).get_name()\n",
    "rc('font', family=font_name)"
   ]
  },
  {
   "cell_type": "code",
   "execution_count": 28,
   "id": "c9483272",
   "metadata": {},
   "outputs": [],
   "source": [
    "df = pd.read_csv(\"./20202021data.csv\", encoding = \"euc-kr\")\n",
    "\n",
    "df = df[['상장유지년도_2020(X1)', '2020 배당성향(X3)', '2020 배당률(X4)',\n",
    "       '당기순손실여부_2020(X5)', '주당순이익감소여부_2020(X6)', '유동비율_전기(X7)', '부채비율_전기(X8)',\n",
    "       '총자산증가율_전기(X10)', '매출액증가율_전기(X11)', '매출액순이익률_전기(X12)',\n",
    "       '총자본영업이익률_전기(X13)', '자기자본순이익률_전기(X14)', '2020_외국인지분율(X17)',\n",
    "       '외국인지분율변동_2020(X18)', '배당정책_2020(Y)']]\n",
    "\n",
    "# 열 이름 변경\n",
    "df.columns = [  '상장유지년도(X1)', '배당성향(X2)', '배당률(X3)',\n",
    "       '당기순손실여부(X4)', '주당순이익감소여부(X5)', '유동비율(X6)', '부채비율(X7)',\n",
    "       '총자산증가율(X8)', '매출액증가율(X9)', '매출액순이익률(X10)',\n",
    "       '총자본영업이익률(X11)', '자기자본순이익률(X12)', '외국인지분율(X13)',\n",
    "       '외국인지분율변동(X14)', '배당정책_(Y)']"
   ]
  },
  {
   "cell_type": "code",
   "execution_count": 29,
   "id": "41b9e052",
   "metadata": {},
   "outputs": [
    {
     "data": {
      "text/html": [
       "<div>\n",
       "<style scoped>\n",
       "    .dataframe tbody tr th:only-of-type {\n",
       "        vertical-align: middle;\n",
       "    }\n",
       "\n",
       "    .dataframe tbody tr th {\n",
       "        vertical-align: top;\n",
       "    }\n",
       "\n",
       "    .dataframe thead th {\n",
       "        text-align: right;\n",
       "    }\n",
       "</style>\n",
       "<table border=\"1\" class=\"dataframe\">\n",
       "  <thead>\n",
       "    <tr style=\"text-align: right;\">\n",
       "      <th></th>\n",
       "      <th>상장유지년도(X1)</th>\n",
       "      <th>배당성향(X2)</th>\n",
       "      <th>배당률(X3)</th>\n",
       "      <th>당기순손실여부(X4)</th>\n",
       "      <th>주당순이익감소여부(X5)</th>\n",
       "      <th>유동비율(X6)</th>\n",
       "      <th>부채비율(X7)</th>\n",
       "      <th>총자산증가율(X8)</th>\n",
       "      <th>매출액증가율(X9)</th>\n",
       "      <th>매출액순이익률(X10)</th>\n",
       "      <th>총자본영업이익률(X11)</th>\n",
       "      <th>자기자본순이익률(X12)</th>\n",
       "      <th>외국인지분율(X13)</th>\n",
       "      <th>외국인지분율변동(X14)</th>\n",
       "    </tr>\n",
       "  </thead>\n",
       "  <tbody>\n",
       "    <tr>\n",
       "      <th>0</th>\n",
       "      <td>-1.171724</td>\n",
       "      <td>1.888182</td>\n",
       "      <td>-0.181354</td>\n",
       "      <td>-0.329415</td>\n",
       "      <td>1.223209</td>\n",
       "      <td>-0.285763</td>\n",
       "      <td>4.480999</td>\n",
       "      <td>-0.645084</td>\n",
       "      <td>0.088754</td>\n",
       "      <td>-0.365530</td>\n",
       "      <td>-0.231848</td>\n",
       "      <td>-0.191291</td>\n",
       "      <td>0.233730</td>\n",
       "      <td>-1.118413</td>\n",
       "    </tr>\n",
       "    <tr>\n",
       "      <th>1</th>\n",
       "      <td>0.081638</td>\n",
       "      <td>-0.307974</td>\n",
       "      <td>-0.224765</td>\n",
       "      <td>-0.329415</td>\n",
       "      <td>1.223209</td>\n",
       "      <td>-0.302159</td>\n",
       "      <td>-0.550302</td>\n",
       "      <td>0.057682</td>\n",
       "      <td>0.489657</td>\n",
       "      <td>0.419517</td>\n",
       "      <td>-0.143512</td>\n",
       "      <td>-0.609845</td>\n",
       "      <td>0.016800</td>\n",
       "      <td>0.894124</td>\n",
       "    </tr>\n",
       "    <tr>\n",
       "      <th>2</th>\n",
       "      <td>-1.328394</td>\n",
       "      <td>-0.259579</td>\n",
       "      <td>-0.171336</td>\n",
       "      <td>-0.329415</td>\n",
       "      <td>-0.817522</td>\n",
       "      <td>-0.210338</td>\n",
       "      <td>2.021297</td>\n",
       "      <td>-1.196416</td>\n",
       "      <td>0.327123</td>\n",
       "      <td>-0.349727</td>\n",
       "      <td>1.164206</td>\n",
       "      <td>1.071846</td>\n",
       "      <td>0.229134</td>\n",
       "      <td>0.894124</td>\n",
       "    </tr>\n",
       "    <tr>\n",
       "      <th>3</th>\n",
       "      <td>-1.093389</td>\n",
       "      <td>0.116498</td>\n",
       "      <td>-0.214747</td>\n",
       "      <td>-0.329415</td>\n",
       "      <td>-0.817522</td>\n",
       "      <td>2.476984</td>\n",
       "      <td>-1.062963</td>\n",
       "      <td>-0.470094</td>\n",
       "      <td>0.713901</td>\n",
       "      <td>1.458809</td>\n",
       "      <td>-0.588656</td>\n",
       "      <td>-0.641878</td>\n",
       "      <td>-0.002503</td>\n",
       "      <td>0.894124</td>\n",
       "    </tr>\n",
       "    <tr>\n",
       "      <th>4</th>\n",
       "      <td>-1.328394</td>\n",
       "      <td>-0.070631</td>\n",
       "      <td>0.549950</td>\n",
       "      <td>-0.329415</td>\n",
       "      <td>1.223209</td>\n",
       "      <td>-0.251724</td>\n",
       "      <td>3.380465</td>\n",
       "      <td>-0.005135</td>\n",
       "      <td>-0.171778</td>\n",
       "      <td>-0.445940</td>\n",
       "      <td>0.272187</td>\n",
       "      <td>1.197839</td>\n",
       "      <td>2.078548</td>\n",
       "      <td>0.894124</td>\n",
       "    </tr>\n",
       "  </tbody>\n",
       "</table>\n",
       "</div>"
      ],
      "text/plain": [
       "   상장유지년도(X1)  배당성향(X2)   배당률(X3)  당기순손실여부(X4)  주당순이익감소여부(X5)  유동비율(X6)  \\\n",
       "0   -1.171724  1.888182 -0.181354    -0.329415       1.223209 -0.285763   \n",
       "1    0.081638 -0.307974 -0.224765    -0.329415       1.223209 -0.302159   \n",
       "2   -1.328394 -0.259579 -0.171336    -0.329415      -0.817522 -0.210338   \n",
       "3   -1.093389  0.116498 -0.214747    -0.329415      -0.817522  2.476984   \n",
       "4   -1.328394 -0.070631  0.549950    -0.329415       1.223209 -0.251724   \n",
       "\n",
       "   부채비율(X7)  총자산증가율(X8)  매출액증가율(X9)  매출액순이익률(X10)  총자본영업이익률(X11)  \\\n",
       "0  4.480999   -0.645084    0.088754     -0.365530      -0.231848   \n",
       "1 -0.550302    0.057682    0.489657      0.419517      -0.143512   \n",
       "2  2.021297   -1.196416    0.327123     -0.349727       1.164206   \n",
       "3 -1.062963   -0.470094    0.713901      1.458809      -0.588656   \n",
       "4  3.380465   -0.005135   -0.171778     -0.445940       0.272187   \n",
       "\n",
       "   자기자본순이익률(X12)  외국인지분율(X13)  외국인지분율변동(X14)  \n",
       "0      -0.191291     0.233730      -1.118413  \n",
       "1      -0.609845     0.016800       0.894124  \n",
       "2       1.071846     0.229134       0.894124  \n",
       "3      -0.641878    -0.002503       0.894124  \n",
       "4       1.197839     2.078548       0.894124  "
      ]
     },
     "execution_count": 29,
     "metadata": {},
     "output_type": "execute_result"
    }
   ],
   "source": [
    "from sklearn.preprocessing import StandardScaler\n",
    "\n",
    "InputFeature = df.iloc[:,:-1].values\n",
    "Label = df.iloc[:, -1]\n",
    "\n",
    "InputFeature = StandardScaler().fit_transform(InputFeature)\n",
    "\n",
    "features = [ '상장유지년도(X1)', '배당성향(X2)', '배당률(X3)',\n",
    "       '당기순손실여부(X4)', '주당순이익감소여부(X5)', '유동비율(X6)', '부채비율(X7)',\n",
    "       '총자산증가율(X8)', '매출액증가율(X9)', '매출액순이익률(X10)',\n",
    "       '총자본영업이익률(X11)', '자기자본순이익률(X12)', '외국인지분율(X13)',\n",
    "       '외국인지분율변동(X14)']\n",
    "df_st = pd.DataFrame(InputFeature, columns=features)\n",
    "df_st.head()"
   ]
  },
  {
   "cell_type": "code",
   "execution_count": 30,
   "id": "44738304",
   "metadata": {},
   "outputs": [],
   "source": [
    "# train test set 8 : 2 로 분리\n",
    "train_x = df_st.iloc[:int(len(df_st) * 0.8), :]\n",
    "train_y = Label[ : int(len(Label) * 0.8)]\n",
    "\n",
    "test_x = df_st.iloc[int(len(df_st) * 0.8) :, :]\n",
    "test_y = Label[int(len(Label) * 0.8) : ]"
   ]
  },
  {
   "cell_type": "code",
   "execution_count": 31,
   "id": "2b837215",
   "metadata": {},
   "outputs": [],
   "source": [
    "# xgboost 모델에 학습 시키고 예측\n",
    "from xgboost import XGBClassifier\n",
    "\n",
    "xgb_wrapper = XGBClassifier(n_estimators=400, learning_rate = 0.01, max_depth=3)\n",
    "xgb_wrapper.fit(train_x, train_y) \n",
    "w_preds = xgb_wrapper.predict(test_x)\n",
    "w_pred_proba = xgb_wrapper.predict_proba(test_x)[:,1]\n"
   ]
  },
  {
   "cell_type": "code",
   "execution_count": 32,
   "id": "0d3e1ef8",
   "metadata": {},
   "outputs": [
    {
     "name": "stdout",
     "output_type": "stream",
     "text": [
      "오차 행렬\n",
      "[[43 16]\n",
      " [27 47]]\n",
      "정확도 : 0.6767, 정밀도 : 0.6143, 재현율 : 0.7288, F1 : 0.6667, AUC:0.681974\n"
     ]
    }
   ],
   "source": [
    "# confusion matrix구하기\n",
    "get_clf_eval(test_y, w_preds, w_pred_proba)\n"
   ]
  },
  {
   "cell_type": "code",
   "execution_count": 33,
   "id": "b2b0df74",
   "metadata": {},
   "outputs": [
    {
     "data": {
      "text/plain": [
       "<AxesSubplot:title={'center':'Feature importance'}, xlabel='F score', ylabel='Features'>"
      ]
     },
     "execution_count": 33,
     "metadata": {},
     "output_type": "execute_result"
    },
    {
     "data": {
      "image/png": "[encoded data removed]",
      "text/plain": [
       "<Figure size 720x864 with 1 Axes>"
      ]
     },
     "metadata": {
      "needs_background": "light"
     },
     "output_type": "display_data"
    }
   ],
   "source": [
    "# Feature importance 구하기\n",
    "from xgboost import plot_importance\n",
    "import matplotlib.pyplot as plt\n",
    "\n",
    "fig, ax = plt.subplots(figsize=(10,12))\n",
    "plot_importance(xgb_wrapper, ax=ax)\n"
   ]
  },
  {
   "cell_type": "code",
   "execution_count": 34,
   "id": "525a6ecc",
   "metadata": {},
   "outputs": [
    {
     "name": "stdout",
     "output_type": "stream",
     "text": [
      "0.6819743472285844\n"
     ]
    }
   ],
   "source": [
    "from sklearn.metrics import roc_auc_score\n",
    "print(roc_auc_score(test_y, w_preds))"
   ]
  },
  {
   "cell_type": "code",
   "execution_count": null,
   "id": "51c1159a",
   "metadata": {},
   "outputs": [],
   "source": []
  }
 ],
 "metadata": {
  "kernelspec": {
   "display_name": "Python 3 (ipykernel)",
   "language": "python",
   "name": "python3"
  },
  "language_info": {
   "codemirror_mode": {
    "name": "ipython",
    "version": 3
   },
   "file_extension": ".py",
   "mimetype": "text/x-python",
   "name": "python",
   "nbconvert_exporter": "python",
   "pygments_lexer": "ipython3",
   "version": "3.9.7"
  }
 },
 "nbformat": 4,
 "nbformat_minor": 5
}
