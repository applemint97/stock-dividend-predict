{
 "cells": [
  {
   "cell_type": "code",
   "execution_count": 93,
   "id": "6ad47db9",
   "metadata": {},
   "outputs": [],
   "source": [
    "import pandas as pd\n",
    "import matplotlib.pyplot as plt\n",
    "import seaborn as sns\n",
    "import numpy as np\n",
    "from sklearn.metrics import roc_curve, accuracy_score, confusion_matrix, recall_score, precision_score\n",
    "# matplotlib 한글 폰트 오류 문제 해결\n",
    "# font_manager는 경로와 이름을 가지고 폰트를 지정\n",
    "# rc는 폰트를 적용\n",
    "from matplotlib import font_manager, rc\n",
    "font_path = \"./malgun.ttf\"\n",
    "font_name = font_manager.FontProperties(fname=font_path).get_name()\n",
    "rc('font', family=font_name)\n",
    "\n",
    "import tensorflow as tf\n",
    "from tensorflow.keras.models import Sequential, load_model\n",
    "from tensorflow.keras.layers import Dense\n",
    "from tensorflow.keras.optimizers import SGD, Adam\n",
    "\n",
    "from tensorflow.keras.callbacks import ModelCheckpoint, TensorBoard, ReduceLROnPlateau"
   ]
  },
  {
   "cell_type": "code",
   "execution_count": 94,
   "id": "19a3286e",
   "metadata": {},
   "outputs": [],
   "source": [
    "df = pd.read_csv(\"./20202021data.csv\", encoding = \"euc-kr\")\n"
   ]
  },
  {
   "cell_type": "code",
   "execution_count": 95,
   "id": "819fdadd",
   "metadata": {},
   "outputs": [],
   "source": [
    "df = df[['상장유지년도_2020(X1)', '2020 배당성향(X3)', '2020 배당률(X4)',\n",
    "       '당기순손실여부_2020(X5)', '주당순이익감소여부_2020(X6)', '유동비율_전기(X7)', '부채비율_전기(X8)',\n",
    "       '총자산증가율_전기(X10)', '매출액증가율_전기(X11)', '매출액순이익률_전기(X12)',\n",
    "       '총자본영업이익률_전기(X13)', '자기자본순이익률_전기(X14)', '2020_외국인지분율(X17)',\n",
    "       '외국인지분율변동_2020(X18)', '배당정책_2020(Y)']]"
   ]
  },
  {
   "cell_type": "code",
   "execution_count": 96,
   "id": "55c4c856",
   "metadata": {},
   "outputs": [],
   "source": [
    "# 열이름 깔끔하게 변경\n",
    "df.columns = [ '상장유지년도(X1)', '배당성향(X2)', '배당률(X3)',\n",
    "       '당기순손실여부(X4)', '주당순이익감소여부(X5)', '유동비율(X6)', '부채비율(X7)',\n",
    "       '총자산증가율(X8)', '매출액증가율(X9)', '매출액순이익률(X10)',\n",
    "       '총자본영업이익률(X11)', '자기자본순이익률(X12)', '외국인지분율(X13)',\n",
    "       '외국인지분율변동(X14)', '배당정책_(Y)']"
   ]
  },
  {
   "cell_type": "code",
   "execution_count": 97,
   "id": "93567920",
   "metadata": {},
   "outputs": [
    {
     "data": {
      "text/html": [
       "<div>\n",
       "<style scoped>\n",
       "    .dataframe tbody tr th:only-of-type {\n",
       "        vertical-align: middle;\n",
       "    }\n",
       "\n",
       "    .dataframe tbody tr th {\n",
       "        vertical-align: top;\n",
       "    }\n",
       "\n",
       "    .dataframe thead th {\n",
       "        text-align: right;\n",
       "    }\n",
       "</style>\n",
       "<table border=\"1\" class=\"dataframe\">\n",
       "  <thead>\n",
       "    <tr style=\"text-align: right;\">\n",
       "      <th></th>\n",
       "      <th>상장유지년도(X1)</th>\n",
       "      <th>배당성향(X3)</th>\n",
       "      <th>배당률(X4)</th>\n",
       "      <th>당기순손실여부(X5)</th>\n",
       "      <th>주당순이익감소여부(X6)</th>\n",
       "      <th>유동비율(X7)</th>\n",
       "      <th>부채비율(X8)</th>\n",
       "      <th>총자산증가율(X10)</th>\n",
       "      <th>매출액증가율(X11)</th>\n",
       "      <th>매출액순이익률(X12)</th>\n",
       "      <th>총자본영업이익률(X13)</th>\n",
       "      <th>자기자본순이익률(X14)</th>\n",
       "      <th>외국인지분율(X17)</th>\n",
       "      <th>외국인지분율변동(X18)</th>\n",
       "      <th>배당정책_(Y)</th>\n",
       "    </tr>\n",
       "  </thead>\n",
       "  <tbody>\n",
       "    <tr>\n",
       "      <th>0</th>\n",
       "      <td>6</td>\n",
       "      <td>296.433</td>\n",
       "      <td>21.0</td>\n",
       "      <td>0</td>\n",
       "      <td>1</td>\n",
       "      <td>31.77</td>\n",
       "      <td>303.47</td>\n",
       "      <td>-2.23</td>\n",
       "      <td>15.77</td>\n",
       "      <td>3.77</td>\n",
       "      <td>4.18</td>\n",
       "      <td>5.74</td>\n",
       "      <td>10.75</td>\n",
       "      <td>0</td>\n",
       "      <td>0</td>\n",
       "    </tr>\n",
       "    <tr>\n",
       "      <th>1</th>\n",
       "      <td>22</td>\n",
       "      <td>1.963</td>\n",
       "      <td>8.0</td>\n",
       "      <td>0</td>\n",
       "      <td>1</td>\n",
       "      <td>7.56</td>\n",
       "      <td>30.54</td>\n",
       "      <td>10.30</td>\n",
       "      <td>34.22</td>\n",
       "      <td>20.66</td>\n",
       "      <td>4.69</td>\n",
       "      <td>1.82</td>\n",
       "      <td>8.39</td>\n",
       "      <td>1</td>\n",
       "      <td>0</td>\n",
       "    </tr>\n",
       "    <tr>\n",
       "      <th>2</th>\n",
       "      <td>4</td>\n",
       "      <td>8.452</td>\n",
       "      <td>24.0</td>\n",
       "      <td>0</td>\n",
       "      <td>0</td>\n",
       "      <td>143.14</td>\n",
       "      <td>170.04</td>\n",
       "      <td>-12.06</td>\n",
       "      <td>26.74</td>\n",
       "      <td>4.11</td>\n",
       "      <td>12.24</td>\n",
       "      <td>17.57</td>\n",
       "      <td>10.70</td>\n",
       "      <td>1</td>\n",
       "      <td>1</td>\n",
       "    </tr>\n",
       "  </tbody>\n",
       "</table>\n",
       "</div>"
      ],
      "text/plain": [
       "   상장유지년도(X1)  배당성향(X3)  배당률(X4)  당기순손실여부(X5)  주당순이익감소여부(X6)  유동비율(X7)  \\\n",
       "0           6   296.433     21.0            0              1     31.77   \n",
       "1          22     1.963      8.0            0              1      7.56   \n",
       "2           4     8.452     24.0            0              0    143.14   \n",
       "\n",
       "   부채비율(X8)  총자산증가율(X10)  매출액증가율(X11)  매출액순이익률(X12)  총자본영업이익률(X13)  \\\n",
       "0    303.47        -2.23        15.77          3.77           4.18   \n",
       "1     30.54        10.30        34.22         20.66           4.69   \n",
       "2    170.04       -12.06        26.74          4.11          12.24   \n",
       "\n",
       "   자기자본순이익률(X14)  외국인지분율(X17)  외국인지분율변동(X18)  배당정책_(Y)  \n",
       "0           5.74        10.75              0         0  \n",
       "1           1.82         8.39              1         0  \n",
       "2          17.57        10.70              1         1  "
      ]
     },
     "execution_count": 97,
     "metadata": {},
     "output_type": "execute_result"
    }
   ],
   "source": [
    "df.head(3)"
   ]
  },
  {
   "cell_type": "markdown",
   "id": "754f0382",
   "metadata": {},
   "source": [
    "# 표준화 작업"
   ]
  },
  {
   "cell_type": "code",
   "execution_count": 101,
   "id": "8902e054",
   "metadata": {},
   "outputs": [
    {
     "data": {
      "text/html": [
       "<div>\n",
       "<style scoped>\n",
       "    .dataframe tbody tr th:only-of-type {\n",
       "        vertical-align: middle;\n",
       "    }\n",
       "\n",
       "    .dataframe tbody tr th {\n",
       "        vertical-align: top;\n",
       "    }\n",
       "\n",
       "    .dataframe thead th {\n",
       "        text-align: right;\n",
       "    }\n",
       "</style>\n",
       "<table border=\"1\" class=\"dataframe\">\n",
       "  <thead>\n",
       "    <tr style=\"text-align: right;\">\n",
       "      <th></th>\n",
       "      <th>상장유지년도(X1)</th>\n",
       "      <th>배당성향(X3)</th>\n",
       "      <th>배당률(X4)</th>\n",
       "      <th>당기순손실여부(X5)</th>\n",
       "      <th>주당순이익감소여부(X6)</th>\n",
       "      <th>유동비율(X7)</th>\n",
       "      <th>부채비율(X8)</th>\n",
       "      <th>총자산증가율(X10)</th>\n",
       "      <th>매출액증가율(X11)</th>\n",
       "      <th>매출액순이익률(X12)</th>\n",
       "      <th>총자본영업이익률(X13)</th>\n",
       "      <th>자기자본순이익률(X14)</th>\n",
       "      <th>외국인지분율(X17)</th>\n",
       "      <th>외국인지분율변동(X18)</th>\n",
       "    </tr>\n",
       "  </thead>\n",
       "  <tbody>\n",
       "    <tr>\n",
       "      <th>0</th>\n",
       "      <td>-1.171724</td>\n",
       "      <td>1.888182</td>\n",
       "      <td>-0.181354</td>\n",
       "      <td>-0.329415</td>\n",
       "      <td>1.223209</td>\n",
       "      <td>-0.285763</td>\n",
       "      <td>4.480999</td>\n",
       "      <td>-0.645084</td>\n",
       "      <td>0.088754</td>\n",
       "      <td>-0.365530</td>\n",
       "      <td>-0.231848</td>\n",
       "      <td>-0.191291</td>\n",
       "      <td>0.233730</td>\n",
       "      <td>-1.118413</td>\n",
       "    </tr>\n",
       "    <tr>\n",
       "      <th>1</th>\n",
       "      <td>0.081638</td>\n",
       "      <td>-0.307974</td>\n",
       "      <td>-0.224765</td>\n",
       "      <td>-0.329415</td>\n",
       "      <td>1.223209</td>\n",
       "      <td>-0.302159</td>\n",
       "      <td>-0.550302</td>\n",
       "      <td>0.057682</td>\n",
       "      <td>0.489657</td>\n",
       "      <td>0.419517</td>\n",
       "      <td>-0.143512</td>\n",
       "      <td>-0.609845</td>\n",
       "      <td>0.016800</td>\n",
       "      <td>0.894124</td>\n",
       "    </tr>\n",
       "    <tr>\n",
       "      <th>2</th>\n",
       "      <td>-1.328394</td>\n",
       "      <td>-0.259579</td>\n",
       "      <td>-0.171336</td>\n",
       "      <td>-0.329415</td>\n",
       "      <td>-0.817522</td>\n",
       "      <td>-0.210338</td>\n",
       "      <td>2.021297</td>\n",
       "      <td>-1.196416</td>\n",
       "      <td>0.327123</td>\n",
       "      <td>-0.349727</td>\n",
       "      <td>1.164206</td>\n",
       "      <td>1.071846</td>\n",
       "      <td>0.229134</td>\n",
       "      <td>0.894124</td>\n",
       "    </tr>\n",
       "    <tr>\n",
       "      <th>3</th>\n",
       "      <td>-1.093389</td>\n",
       "      <td>0.116498</td>\n",
       "      <td>-0.214747</td>\n",
       "      <td>-0.329415</td>\n",
       "      <td>-0.817522</td>\n",
       "      <td>2.476984</td>\n",
       "      <td>-1.062963</td>\n",
       "      <td>-0.470094</td>\n",
       "      <td>0.713901</td>\n",
       "      <td>1.458809</td>\n",
       "      <td>-0.588656</td>\n",
       "      <td>-0.641878</td>\n",
       "      <td>-0.002503</td>\n",
       "      <td>0.894124</td>\n",
       "    </tr>\n",
       "    <tr>\n",
       "      <th>4</th>\n",
       "      <td>-1.328394</td>\n",
       "      <td>-0.070631</td>\n",
       "      <td>0.549950</td>\n",
       "      <td>-0.329415</td>\n",
       "      <td>1.223209</td>\n",
       "      <td>-0.251724</td>\n",
       "      <td>3.380465</td>\n",
       "      <td>-0.005135</td>\n",
       "      <td>-0.171778</td>\n",
       "      <td>-0.445940</td>\n",
       "      <td>0.272187</td>\n",
       "      <td>1.197839</td>\n",
       "      <td>2.078548</td>\n",
       "      <td>0.894124</td>\n",
       "    </tr>\n",
       "  </tbody>\n",
       "</table>\n",
       "</div>"
      ],
      "text/plain": [
       "   상장유지년도(X1)  배당성향(X3)   배당률(X4)  당기순손실여부(X5)  주당순이익감소여부(X6)  유동비율(X7)  \\\n",
       "0   -1.171724  1.888182 -0.181354    -0.329415       1.223209 -0.285763   \n",
       "1    0.081638 -0.307974 -0.224765    -0.329415       1.223209 -0.302159   \n",
       "2   -1.328394 -0.259579 -0.171336    -0.329415      -0.817522 -0.210338   \n",
       "3   -1.093389  0.116498 -0.214747    -0.329415      -0.817522  2.476984   \n",
       "4   -1.328394 -0.070631  0.549950    -0.329415       1.223209 -0.251724   \n",
       "\n",
       "   부채비율(X8)  총자산증가율(X10)  매출액증가율(X11)  매출액순이익률(X12)  총자본영업이익률(X13)  \\\n",
       "0  4.480999    -0.645084     0.088754     -0.365530      -0.231848   \n",
       "1 -0.550302     0.057682     0.489657      0.419517      -0.143512   \n",
       "2  2.021297    -1.196416     0.327123     -0.349727       1.164206   \n",
       "3 -1.062963    -0.470094     0.713901      1.458809      -0.588656   \n",
       "4  3.380465    -0.005135    -0.171778     -0.445940       0.272187   \n",
       "\n",
       "   자기자본순이익률(X14)  외국인지분율(X17)  외국인지분율변동(X18)  \n",
       "0      -0.191291     0.233730      -1.118413  \n",
       "1      -0.609845     0.016800       0.894124  \n",
       "2       1.071846     0.229134       0.894124  \n",
       "3      -0.641878    -0.002503       0.894124  \n",
       "4       1.197839     2.078548       0.894124  "
      ]
     },
     "execution_count": 101,
     "metadata": {},
     "output_type": "execute_result"
    }
   ],
   "source": [
    "from sklearn.preprocessing import StandardScaler\n",
    "\n",
    "InputFeature = df.iloc[:,:-1].values\n",
    "Label = df.iloc[:, -1]\n",
    "\n",
    "InputFeature = StandardScaler().fit_transform(InputFeature)\n",
    "\n",
    "features = [  '상장유지년도(X1)', '배당성향(X2)', '배당률(X3)',\n",
    "       '당기순손실여부(X4)', '주당순이익감소여부(X5)', '유동비율(X6)', '부채비율(X7)',\n",
    "       '총자산증가율(X8)', '매출액증가율(X9)', '매출액순이익률(X10)',\n",
    "       '총자본영업이익률(X11)', '자기자본순이익률(X12)', '외국인지분율(X13)',\n",
    "       '외국인지분율변동(X14)']\n",
    "df_st = pd.DataFrame(InputFeature, columns=features)\n",
    "df_st.head()"
   ]
  },
  {
   "cell_type": "code",
   "execution_count": 102,
   "id": "9598e333",
   "metadata": {},
   "outputs": [],
   "source": [
    "# train test set 8:2 로 분리\n",
    "train_x = df_st.iloc[:int(len(df_st) * 0.8), :]\n",
    "train_y = Label[ : int(len(Label) * 0.8)]\n",
    "\n",
    "test_x = df_st.iloc[int(len(df_st) * 0.8) :, :]\n",
    "test_y = Label[int(len(Label) * 0.8) : ]"
   ]
  },
  {
   "cell_type": "code",
   "execution_count": 103,
   "id": "bf5fb0ac",
   "metadata": {},
   "outputs": [
    {
     "name": "stdout",
     "output_type": "stream",
     "text": [
      "(531, 14)\n",
      "(531,)\n",
      "(133, 14)\n",
      "(133,)\n"
     ]
    }
   ],
   "source": [
    "print(train_x.shape)\n",
    "print(train_y.shape)\n",
    "print(test_x.shape)\n",
    "print(test_y.shape)"
   ]
  },
  {
   "cell_type": "code",
   "execution_count": 104,
   "id": "d54f5987",
   "metadata": {
    "scrolled": false
   },
   "outputs": [
    {
     "name": "stdout",
     "output_type": "stream",
     "text": [
      "Feature ranking:\n",
      "1. feature 자기자본순이익률(X14) (0.100)\n",
      "2. feature 매출액순이익률(X12) (0.100)\n",
      "3. feature 배당률(X4) (0.100)\n",
      "4. feature 매출액증가율(X11) (0.087)\n",
      "5. feature 주당순이익감소여부(X6) (0.087)\n",
      "6. feature 총자본영업이익률(X13) (0.085)\n",
      "7. feature 총자산증가율(X10) (0.082)\n",
      "8. feature 외국인지분율(X17) (0.078)\n",
      "9. feature 부채비율(X8) (0.072)\n",
      "10. feature 유동비율(X7) (0.070)\n",
      "11. feature 배당성향(X3) (0.070)\n",
      "12. feature 상장유지년도(X1) (0.054)\n",
      "13. feature 외국인지분율변동(X18) (0.013)\n",
      "14. feature 당기순손실여부(X5) (0.004)\n"
     ]
    },
    {
     "data": {
      "text/plain": [
       "<Figure size 432x288 with 0 Axes>"
      ]
     },
     "metadata": {},
     "output_type": "display_data"
    },
    {
     "data": {
      "image/png": "[encoded data removed]",
      "text/plain": [
       "<Figure size 864x504 with 1 Axes>"
      ]
     },
     "metadata": {
      "needs_background": "light"
     },
     "output_type": "display_data"
    }
   ],
   "source": [
    "from sklearn.ensemble import RandomForestClassifier\n",
    "\n",
    "forest = RandomForestClassifier()\n",
    "forest.fit(train_x, train_y)\n",
    "\n",
    "importances = forest.feature_importances_\n",
    "std = np.std([tree.feature_importances_ for tree in forest.estimators_], axis = 0)\n",
    "indices = np.argsort(importances)[::-1]\n",
    "\n",
    "# Print the feature ranking\n",
    "print(\"Feature ranking:\")\n",
    "\n",
    "for f in range(train_x.shape[1]):\n",
    "    print(\"{}. feature {} ({:.3f})\".format(f + 1, train_x.columns[indices][f], importances[indices[f]]))\n",
    "\n",
    "# Plot the impurity-based feature importances of the forest\n",
    "plt.figure()\n",
    "plt.figure(figsize=(12, 7))\n",
    "\n",
    "plt.title(\"Feature importances\")\n",
    "plt.bar(range(train_x.shape[1]), importances[indices],\n",
    "       color = 'r', yerr=std[indices], align='center')\n",
    "plt.xticks(range(train_x.shape[1]), train_x.columns[indices], rotation=70)\n",
    "plt.xlim([-1, train_x.shape[1]])\n",
    "\n",
    "plt.show()\n"
   ]
  },
  {
   "cell_type": "code",
   "execution_count": 107,
   "id": "627cfcda",
   "metadata": {},
   "outputs": [
    {
     "name": "stdout",
     "output_type": "stream",
     "text": [
      "              precision    recall  f1-score   support\n",
      "\n",
      "           1       0.63      0.69      0.66        59\n",
      "           0       0.74      0.68      0.70        74\n",
      "\n",
      "    accuracy                           0.68       133\n",
      "   macro avg       0.68      0.69      0.68       133\n",
      "weighted avg       0.69      0.68      0.69       133\n",
      "\n"
     ]
    }
   ],
   "source": [
    "# 정밀도 재현율 f-1score 정확도 등등 계산\n",
    "from numpy import sqrt\n",
    "from numpy import argmax\n",
    "from sklearn.metrics import classification_report\n",
    "from sklearn.metrics import plot_roc_curve\n",
    "\n",
    "print(classification_report(test_y, forest.predict(test_x), target_names=['1', '0'], labels=[1, 0]))"
   ]
  },
  {
   "cell_type": "code",
   "execution_count": 108,
   "id": "6a3e5de5",
   "metadata": {},
   "outputs": [
    {
     "data": {
      "text/plain": [
       "0.6842105263157895"
      ]
     },
     "execution_count": 108,
     "metadata": {},
     "output_type": "execute_result"
    }
   ],
   "source": [
    "# 정확도 계산\n",
    "from sklearn.metrics import accuracy_score, confusion_matrix, precision_score, recall_score, f1_score, roc_auc_score\n",
    "\n",
    "accuracy_score(test_y, forest.predict(test_x))"
   ]
  },
  {
   "cell_type": "code",
   "execution_count": 109,
   "id": "9de4fd0f",
   "metadata": {},
   "outputs": [
    {
     "data": {
      "text/plain": [
       "array([[41, 18],\n",
       "       [24, 50]], dtype=int64)"
      ]
     },
     "execution_count": 109,
     "metadata": {},
     "output_type": "execute_result"
    }
   ],
   "source": [
    "# confustion matrix 계산\n",
    "\n",
    "confusion_matrix(test_y, forest.predict(test_x), labels=[1, 0])"
   ]
  },
  {
   "cell_type": "code",
   "execution_count": 113,
   "id": "27ebda53",
   "metadata": {},
   "outputs": [
    {
     "name": "stdout",
     "output_type": "stream",
     "text": [
      "0.6852954649564819\n"
     ]
    }
   ],
   "source": [
    "# auc 점수 계산\n",
    "from sklearn.metrics import roc_auc_score\n",
    "\n",
    "print(roc_auc_score(test_y, forest.predict(test_x)))"
   ]
  },
  {
   "cell_type": "code",
   "execution_count": null,
   "id": "b347af32",
   "metadata": {},
   "outputs": [],
   "source": []
  }
 ],
 "metadata": {
  "kernelspec": {
   "display_name": "Python 3 (ipykernel)",
   "language": "python",
   "name": "python3"
  },
  "language_info": {
   "codemirror_mode": {
    "name": "ipython",
    "version": 3
   },
   "file_extension": ".py",
   "mimetype": "text/x-python",
   "name": "python",
   "nbconvert_exporter": "python",
   "pygments_lexer": "ipython3",
   "version": "3.9.7"
  }
 },
 "nbformat": 4,
 "nbformat_minor": 5
}
