{
 "cells": [
  {
   "cell_type": "code",
   "execution_count": 2,
   "metadata": {
    "colab": {
     "base_uri": "https://localhost:8080/"
    },
    "executionInfo": {
     "elapsed": 10805,
     "status": "ok",
     "timestamp": 1652416776652,
     "user": {
      "displayName": "조숙현",
      "userId": "17948902390149034364"
     },
     "user_tz": -540
    },
    "id": "SLfqbUnsr2_p",
    "outputId": "88be2834-5044-4d7f-fef1-480a8e75002e"
   },
   "outputs": [],
   "source": [
    "\n",
    "import matplotlib as mpl \n",
    "import matplotlib.pyplot as plt \n",
    "import matplotlib.font_manager as fm  \n",
    "import pandas as pd\n",
    "import matplotlib.pyplot as plt\n",
    "import seaborn as sns\n",
    "import numpy as np\n",
    "from sklearn.metrics import roc_curve, accuracy_score, confusion_matrix, recall_score, precision_score\n",
    "# matplotlib 한글 폰트 오류 문제 해결\n",
    "# font_manager는 경로와 이름을 가지고 폰트를 지정\n",
    "# rc는 폰트를 적용\n",
    "from matplotlib import font_manager, rc\n",
    "font_path = \"./malgun.ttf\"\n",
    "font_name = font_manager.FontProperties(fname=font_path).get_name()\n",
    "rc('font', family=font_name)\n",
    "\n",
    "import tensorflow as tf\n",
    "from tensorflow.keras.models import Sequential, load_model\n",
    "from tensorflow.keras.layers import Dense\n",
    "from tensorflow.keras.optimizers import SGD, Adam\n",
    "\n",
    "from tensorflow.keras.callbacks import ModelCheckpoint, TensorBoard, ReduceLROnPlateau"
   ]
  },
  {
   "cell_type": "code",
   "execution_count": 3,
   "metadata": {
    "colab": {
     "base_uri": "https://localhost:8080/"
    },
    "executionInfo": {
     "elapsed": 2003,
     "status": "ok",
     "timestamp": 1652416778186,
     "user": {
      "displayName": "조숙현",
      "userId": "17948902390149034364"
     },
     "user_tz": -540
    },
    "id": "hJjbC-ZRkEUh",
    "outputId": "bd2068dd-d34b-478c-869c-d3c9871d5e49"
   },
   "outputs": [],
   "source": [
    "import pandas as pd\n",
    "import numpy as np\n",
    "import matplotlib.pyplot as plt\n",
    "from sklearn.linear_model import LogisticRegression\n",
    "import statsmodels.api as sm\n",
    "from sklearn.model_selection import train_test_split\n",
    "import seaborn as sns"
   ]
  },
  {
   "cell_type": "code",
   "execution_count": 4,
   "metadata": {
    "executionInfo": {
     "elapsed": 382,
     "status": "ok",
     "timestamp": 1652416778565,
     "user": {
      "displayName": "조숙현",
      "userId": "17948902390149034364"
     },
     "user_tz": -540
    },
    "id": "N4zuHb6xk0zD"
   },
   "outputs": [],
   "source": [
    "df = pd.read_csv(\"./20202021data.csv\", encoding = \"euc-kr\")\n",
    "\n",
    "df = df[['상장유지년도_2020(X1)', '2020 배당성향(X3)', '2020 배당률(X4)',\n",
    "       '당기순손실여부_2020(X5)', '주당순이익감소여부_2020(X6)', '유동비율_전기(X7)', '부채비율_전기(X8)',\n",
    "       '총자산증가율_전기(X10)', '매출액증가율_전기(X11)', '매출액순이익률_전기(X12)',\n",
    "       '총자본영업이익률_전기(X13)', '자기자본순이익률_전기(X14)', '2020_외국인지분율(X17)',\n",
    "       '외국인지분율변동_2020(X18)', '배당정책_2020(Y)']]\n",
    "\n",
    "df.columns = [ '상장유지년도(X1)', '배당성향(X2)', '배당률(X3)',\n",
    "       '당기순손실여부(X4)', '주당순이익감소여부(X5)', '유동비율(X6)', '부채비율(X7)',\n",
    "       '총자산증가율(X8)', '매출액증가율(X9)', '매출액순이익률(X10)',\n",
    "       '총자본영업이익률(X11)', '자기자본순이익률(X12)', '외국인지분율(X13)',\n",
    "       '외국인지분율변동(X14)', '배당정책_(Y)', '배당정책_(Y)']"
   ]
  },
  {
   "cell_type": "code",
   "execution_count": 28,
   "metadata": {},
   "outputs": [
    {
     "data": {
      "text/html": [
       "<div>\n",
       "<style scoped>\n",
       "    .dataframe tbody tr th:only-of-type {\n",
       "        vertical-align: middle;\n",
       "    }\n",
       "\n",
       "    .dataframe tbody tr th {\n",
       "        vertical-align: top;\n",
       "    }\n",
       "\n",
       "    .dataframe thead th {\n",
       "        text-align: right;\n",
       "    }\n",
       "</style>\n",
       "<table border=\"1\" class=\"dataframe\">\n",
       "  <thead>\n",
       "    <tr style=\"text-align: right;\">\n",
       "      <th></th>\n",
       "      <th>상장유지년도(X1)</th>\n",
       "      <th>배당성향(X3)</th>\n",
       "      <th>배당률(X4)</th>\n",
       "      <th>당기순손실여부(X5)</th>\n",
       "      <th>주당순이익감소여부(X6)</th>\n",
       "      <th>유동비율(X7)</th>\n",
       "      <th>부채비율(X8)</th>\n",
       "      <th>총자산증가율(X10)</th>\n",
       "      <th>매출액증가율(X11)</th>\n",
       "      <th>매출액순이익률(X12)</th>\n",
       "      <th>총자본영업이익률(X13)</th>\n",
       "      <th>자기자본순이익률(X14)</th>\n",
       "      <th>외국인지분율(X17)</th>\n",
       "      <th>외국인지분율변동(X18)</th>\n",
       "    </tr>\n",
       "  </thead>\n",
       "  <tbody>\n",
       "    <tr>\n",
       "      <th>0</th>\n",
       "      <td>6</td>\n",
       "      <td>296.433</td>\n",
       "      <td>21.0</td>\n",
       "      <td>0</td>\n",
       "      <td>1</td>\n",
       "      <td>31.77</td>\n",
       "      <td>303.47</td>\n",
       "      <td>-2.23</td>\n",
       "      <td>15.77</td>\n",
       "      <td>3.77</td>\n",
       "      <td>4.18</td>\n",
       "      <td>5.74</td>\n",
       "      <td>10.75</td>\n",
       "      <td>0</td>\n",
       "    </tr>\n",
       "    <tr>\n",
       "      <th>1</th>\n",
       "      <td>22</td>\n",
       "      <td>1.963</td>\n",
       "      <td>8.0</td>\n",
       "      <td>0</td>\n",
       "      <td>1</td>\n",
       "      <td>7.56</td>\n",
       "      <td>30.54</td>\n",
       "      <td>10.30</td>\n",
       "      <td>34.22</td>\n",
       "      <td>20.66</td>\n",
       "      <td>4.69</td>\n",
       "      <td>1.82</td>\n",
       "      <td>8.39</td>\n",
       "      <td>1</td>\n",
       "    </tr>\n",
       "    <tr>\n",
       "      <th>2</th>\n",
       "      <td>4</td>\n",
       "      <td>8.452</td>\n",
       "      <td>24.0</td>\n",
       "      <td>0</td>\n",
       "      <td>0</td>\n",
       "      <td>143.14</td>\n",
       "      <td>170.04</td>\n",
       "      <td>-12.06</td>\n",
       "      <td>26.74</td>\n",
       "      <td>4.11</td>\n",
       "      <td>12.24</td>\n",
       "      <td>17.57</td>\n",
       "      <td>10.70</td>\n",
       "      <td>1</td>\n",
       "    </tr>\n",
       "    <tr>\n",
       "      <th>3</th>\n",
       "      <td>7</td>\n",
       "      <td>58.878</td>\n",
       "      <td>11.0</td>\n",
       "      <td>0</td>\n",
       "      <td>0</td>\n",
       "      <td>4111.19</td>\n",
       "      <td>2.73</td>\n",
       "      <td>0.89</td>\n",
       "      <td>44.54</td>\n",
       "      <td>43.02</td>\n",
       "      <td>2.12</td>\n",
       "      <td>1.52</td>\n",
       "      <td>8.18</td>\n",
       "      <td>1</td>\n",
       "    </tr>\n",
       "    <tr>\n",
       "      <th>4</th>\n",
       "      <td>4</td>\n",
       "      <td>33.787</td>\n",
       "      <td>240.0</td>\n",
       "      <td>0</td>\n",
       "      <td>1</td>\n",
       "      <td>82.03</td>\n",
       "      <td>243.77</td>\n",
       "      <td>9.18</td>\n",
       "      <td>3.78</td>\n",
       "      <td>2.04</td>\n",
       "      <td>7.09</td>\n",
       "      <td>18.75</td>\n",
       "      <td>30.82</td>\n",
       "      <td>1</td>\n",
       "    </tr>\n",
       "  </tbody>\n",
       "</table>\n",
       "</div>"
      ],
      "text/plain": [
       "   상장유지년도(X1)  배당성향(X3)  배당률(X4) 당기순손실여부(X5) 주당순이익감소여부(X6)  유동비율(X7)  \\\n",
       "0           6   296.433     21.0           0             1     31.77   \n",
       "1          22     1.963      8.0           0             1      7.56   \n",
       "2           4     8.452     24.0           0             0    143.14   \n",
       "3           7    58.878     11.0           0             0   4111.19   \n",
       "4           4    33.787    240.0           0             1     82.03   \n",
       "\n",
       "   부채비율(X8)  총자산증가율(X10)  매출액증가율(X11)  매출액순이익률(X12)  총자본영업이익률(X13)  \\\n",
       "0    303.47        -2.23        15.77          3.77           4.18   \n",
       "1     30.54        10.30        34.22         20.66           4.69   \n",
       "2    170.04       -12.06        26.74          4.11          12.24   \n",
       "3      2.73         0.89        44.54         43.02           2.12   \n",
       "4    243.77         9.18         3.78          2.04           7.09   \n",
       "\n",
       "   자기자본순이익률(X14)  외국인지분율(X17) 외국인지분율변동(X18)  \n",
       "0           5.74        10.75             0  \n",
       "1           1.82         8.39             1  \n",
       "2          17.57        10.70             1  \n",
       "3           1.52         8.18             1  \n",
       "4          18.75        30.82             1  "
      ]
     },
     "execution_count": 28,
     "metadata": {},
     "output_type": "execute_result"
    }
   ],
   "source": [
    "X = df.iloc[:, :-1]\n",
    "X.head()"
   ]
  },
  {
   "cell_type": "code",
   "execution_count": 5,
   "metadata": {
    "colab": {
     "base_uri": "https://localhost:8080/",
     "height": 416
    },
    "executionInfo": {
     "elapsed": 7,
     "status": "ok",
     "timestamp": 1652416819097,
     "user": {
      "displayName": "조숙현",
      "userId": "17948902390149034364"
     },
     "user_tz": -540
    },
    "id": "PPd1puTXq8rp",
    "outputId": "e8fd4fcd-998d-4443-c4f4-9c773d5b8f18"
   },
   "outputs": [
    {
     "data": {
      "text/html": [
       "<div>\n",
       "<style scoped>\n",
       "    .dataframe tbody tr th:only-of-type {\n",
       "        vertical-align: middle;\n",
       "    }\n",
       "\n",
       "    .dataframe tbody tr th {\n",
       "        vertical-align: top;\n",
       "    }\n",
       "\n",
       "    .dataframe thead th {\n",
       "        text-align: right;\n",
       "    }\n",
       "</style>\n",
       "<table border=\"1\" class=\"dataframe\">\n",
       "  <thead>\n",
       "    <tr style=\"text-align: right;\">\n",
       "      <th></th>\n",
       "      <th>상장유지년도(X1)</th>\n",
       "      <th>배당성향(X3)</th>\n",
       "      <th>배당률(X4)</th>\n",
       "      <th>당기순손실여부(X5)</th>\n",
       "      <th>주당순이익감소여부(X6)</th>\n",
       "      <th>유동비율(X7)</th>\n",
       "      <th>부채비율(X8)</th>\n",
       "      <th>총자산증가율(X10)</th>\n",
       "      <th>매출액증가율(X11)</th>\n",
       "      <th>매출액순이익률(X12)</th>\n",
       "      <th>총자본영업이익률(X13)</th>\n",
       "      <th>자기자본순이익률(X14)</th>\n",
       "      <th>외국인지분율(X17)</th>\n",
       "      <th>외국인지분율변동(X18)</th>\n",
       "      <th>배당정책_(Y)</th>\n",
       "    </tr>\n",
       "  </thead>\n",
       "  <tbody>\n",
       "    <tr>\n",
       "      <th>count</th>\n",
       "      <td>664.000000</td>\n",
       "      <td>664.000000</td>\n",
       "      <td>664.000000</td>\n",
       "      <td>664.000000</td>\n",
       "      <td>664.000000</td>\n",
       "      <td>664.000000</td>\n",
       "      <td>664.000000</td>\n",
       "      <td>664.000000</td>\n",
       "      <td>664.000000</td>\n",
       "      <td>664.000000</td>\n",
       "      <td>664.000000</td>\n",
       "      <td>664.000000</td>\n",
       "      <td>664.000000</td>\n",
       "      <td>664.000000</td>\n",
       "      <td>664.000000</td>\n",
       "    </tr>\n",
       "    <tr>\n",
       "      <th>mean</th>\n",
       "      <td>20.957831</td>\n",
       "      <td>43.257462</td>\n",
       "      <td>75.309187</td>\n",
       "      <td>0.097892</td>\n",
       "      <td>0.400602</td>\n",
       "      <td>453.721642</td>\n",
       "      <td>60.391928</td>\n",
       "      <td>9.271551</td>\n",
       "      <td>11.685437</td>\n",
       "      <td>11.634247</td>\n",
       "      <td>5.518554</td>\n",
       "      <td>7.531551</td>\n",
       "      <td>8.207229</td>\n",
       "      <td>0.555723</td>\n",
       "      <td>0.451807</td>\n",
       "    </tr>\n",
       "    <tr>\n",
       "      <th>std</th>\n",
       "      <td>12.775284</td>\n",
       "      <td>134.185338</td>\n",
       "      <td>299.690762</td>\n",
       "      <td>0.297392</td>\n",
       "      <td>0.490390</td>\n",
       "      <td>1477.694592</td>\n",
       "      <td>54.287296</td>\n",
       "      <td>17.842977</td>\n",
       "      <td>46.055845</td>\n",
       "      <td>21.530864</td>\n",
       "      <td>5.777768</td>\n",
       "      <td>9.372631</td>\n",
       "      <td>10.887320</td>\n",
       "      <td>0.497260</td>\n",
       "      <td>0.498047</td>\n",
       "    </tr>\n",
       "    <tr>\n",
       "      <th>min</th>\n",
       "      <td>0.000000</td>\n",
       "      <td>0.000000</td>\n",
       "      <td>0.800000</td>\n",
       "      <td>0.000000</td>\n",
       "      <td>0.000000</td>\n",
       "      <td>0.000000</td>\n",
       "      <td>0.070000</td>\n",
       "      <td>-17.800000</td>\n",
       "      <td>-93.020000</td>\n",
       "      <td>-127.400000</td>\n",
       "      <td>-24.990000</td>\n",
       "      <td>-72.840000</td>\n",
       "      <td>0.000000</td>\n",
       "      <td>0.000000</td>\n",
       "      <td>0.000000</td>\n",
       "    </tr>\n",
       "    <tr>\n",
       "      <th>25%</th>\n",
       "      <td>11.000000</td>\n",
       "      <td>10.541250</td>\n",
       "      <td>13.550000</td>\n",
       "      <td>0.000000</td>\n",
       "      <td>0.000000</td>\n",
       "      <td>113.587500</td>\n",
       "      <td>21.230000</td>\n",
       "      <td>0.472500</td>\n",
       "      <td>-5.405000</td>\n",
       "      <td>2.487500</td>\n",
       "      <td>1.990000</td>\n",
       "      <td>2.765000</td>\n",
       "      <td>1.762500</td>\n",
       "      <td>0.000000</td>\n",
       "      <td>0.000000</td>\n",
       "    </tr>\n",
       "    <tr>\n",
       "      <th>50%</th>\n",
       "      <td>20.000000</td>\n",
       "      <td>19.875000</td>\n",
       "      <td>24.000000</td>\n",
       "      <td>0.000000</td>\n",
       "      <td>0.000000</td>\n",
       "      <td>194.355000</td>\n",
       "      <td>46.540000</td>\n",
       "      <td>5.670000</td>\n",
       "      <td>6.080000</td>\n",
       "      <td>6.315000</td>\n",
       "      <td>4.050000</td>\n",
       "      <td>6.250000</td>\n",
       "      <td>4.120000</td>\n",
       "      <td>1.000000</td>\n",
       "      <td>0.000000</td>\n",
       "    </tr>\n",
       "    <tr>\n",
       "      <th>75%</th>\n",
       "      <td>30.000000</td>\n",
       "      <td>39.531750</td>\n",
       "      <td>50.000000</td>\n",
       "      <td>0.000000</td>\n",
       "      <td>1.000000</td>\n",
       "      <td>377.665000</td>\n",
       "      <td>81.565000</td>\n",
       "      <td>13.315000</td>\n",
       "      <td>19.900000</td>\n",
       "      <td>13.062500</td>\n",
       "      <td>7.787500</td>\n",
       "      <td>10.892500</td>\n",
       "      <td>10.150000</td>\n",
       "      <td>1.000000</td>\n",
       "      <td>1.000000</td>\n",
       "    </tr>\n",
       "    <tr>\n",
       "      <th>max</th>\n",
       "      <td>54.000000</td>\n",
       "      <td>2593.750000</td>\n",
       "      <td>4200.000000</td>\n",
       "      <td>1.000000</td>\n",
       "      <td>1.000000</td>\n",
       "      <td>28316.530000</td>\n",
       "      <td>348.310000</td>\n",
       "      <td>243.070000</td>\n",
       "      <td>565.530000</td>\n",
       "      <td>167.290000</td>\n",
       "      <td>44.380000</td>\n",
       "      <td>105.810000</td>\n",
       "      <td>68.230000</td>\n",
       "      <td>1.000000</td>\n",
       "      <td>1.000000</td>\n",
       "    </tr>\n",
       "  </tbody>\n",
       "</table>\n",
       "</div>"
      ],
      "text/plain": [
       "       상장유지년도(X1)     배당성향(X3)      배당률(X4)  당기순손실여부(X5)  주당순이익감소여부(X6)  \\\n",
       "count  664.000000   664.000000   664.000000   664.000000     664.000000   \n",
       "mean    20.957831    43.257462    75.309187     0.097892       0.400602   \n",
       "std     12.775284   134.185338   299.690762     0.297392       0.490390   \n",
       "min      0.000000     0.000000     0.800000     0.000000       0.000000   \n",
       "25%     11.000000    10.541250    13.550000     0.000000       0.000000   \n",
       "50%     20.000000    19.875000    24.000000     0.000000       0.000000   \n",
       "75%     30.000000    39.531750    50.000000     0.000000       1.000000   \n",
       "max     54.000000  2593.750000  4200.000000     1.000000       1.000000   \n",
       "\n",
       "           유동비율(X7)    부채비율(X8)  총자산증가율(X10)  매출액증가율(X11)  매출액순이익률(X12)  \\\n",
       "count    664.000000  664.000000   664.000000   664.000000    664.000000   \n",
       "mean     453.721642   60.391928     9.271551    11.685437     11.634247   \n",
       "std     1477.694592   54.287296    17.842977    46.055845     21.530864   \n",
       "min        0.000000    0.070000   -17.800000   -93.020000   -127.400000   \n",
       "25%      113.587500   21.230000     0.472500    -5.405000      2.487500   \n",
       "50%      194.355000   46.540000     5.670000     6.080000      6.315000   \n",
       "75%      377.665000   81.565000    13.315000    19.900000     13.062500   \n",
       "max    28316.530000  348.310000   243.070000   565.530000    167.290000   \n",
       "\n",
       "       총자본영업이익률(X13)  자기자본순이익률(X14)  외국인지분율(X17)  외국인지분율변동(X18)    배당정책_(Y)  \n",
       "count     664.000000     664.000000   664.000000     664.000000  664.000000  \n",
       "mean        5.518554       7.531551     8.207229       0.555723    0.451807  \n",
       "std         5.777768       9.372631    10.887320       0.497260    0.498047  \n",
       "min       -24.990000     -72.840000     0.000000       0.000000    0.000000  \n",
       "25%         1.990000       2.765000     1.762500       0.000000    0.000000  \n",
       "50%         4.050000       6.250000     4.120000       1.000000    0.000000  \n",
       "75%         7.787500      10.892500    10.150000       1.000000    1.000000  \n",
       "max        44.380000     105.810000    68.230000       1.000000    1.000000  "
      ]
     },
     "execution_count": 5,
     "metadata": {},
     "output_type": "execute_result"
    }
   ],
   "source": [
    "df.describe()"
   ]
  },
  {
   "cell_type": "markdown",
   "metadata": {
    "colab": {
     "base_uri": "https://localhost:8080/",
     "height": 1000
    },
    "executionInfo": {
     "elapsed": 8,
     "status": "ok",
     "timestamp": 1652416819962,
     "user": {
      "displayName": "조숙현",
      "userId": "17948902390149034364"
     },
     "user_tz": -540
    },
    "id": "2u1Bdgizq2Rq",
    "outputId": "f6e04f68-fb90-4265-e68a-6067a2b7207b"
   },
   "source": [
    "df.corr()"
   ]
  },
  {
   "cell_type": "markdown",
   "metadata": {
    "colab": {
     "base_uri": "https://localhost:8080/",
     "height": 623
    },
    "executionInfo": {
     "elapsed": 2587,
     "status": "ok",
     "timestamp": 1652416825611,
     "user": {
      "displayName": "조숙현",
      "userId": "17948902390149034364"
     },
     "user_tz": -540
    },
    "id": "kCwMjIJfrUTr",
    "outputId": "94aba6f5-8fc7-406b-a494-8535c956ed86"
   },
   "source": [
    "plt.figure(figsize=(12, 8))\n",
    "sns.heatmap(df.corr(), cmap='RdYlBu_r', annot=True)"
   ]
  },
  {
   "cell_type": "code",
   "execution_count": 7,
   "metadata": {
    "colab": {
     "base_uri": "https://localhost:8080/"
    },
    "executionInfo": {
     "elapsed": 419,
     "status": "ok",
     "timestamp": 1652416844560,
     "user": {
      "displayName": "조숙현",
      "userId": "17948902390149034364"
     },
     "user_tz": -540
    },
    "id": "14U4XSXdv_em",
    "outputId": "5455fa81-2857-4daf-dabc-c6117bbc5727"
   },
   "outputs": [],
   "source": [
    "df['당기순손실여부(X4)'] = df['당기순손실여부(X4)'].astype('category')\n",
    "df['주당순이익감소여부(X5)'] = df['주당순이익감소여부(X5)'].astype('category')\n",
    "df['외국인지분율변동(X14)'] = df['외국인지분율변동(X14)'].astype('category')"
   ]
  },
  {
   "cell_type": "code",
   "execution_count": 8,
   "metadata": {},
   "outputs": [],
   "source": [
    "# train test 8 : 2 로분리\n",
    "train_x = df.iloc[:int(len(df) * 0.8), :-1]\n",
    "train_y = df.iloc[ : int(len(df) * 0.8), -1]\n",
    "\n",
    "test_x = df.iloc[int(len(df) * 0.8) :, :-1]\n",
    "test_y = df.iloc[int(len(df) * 0.8) :,-1]"
   ]
  },
  {
   "cell_type": "code",
   "execution_count": 9,
   "metadata": {},
   "outputs": [
    {
     "name": "stdout",
     "output_type": "stream",
     "text": [
      "(531, 14)\n",
      "(531,)\n",
      "(133, 14)\n",
      "(133,)\n"
     ]
    }
   ],
   "source": [
    "print(train_x.shape)\n",
    "print(train_y.shape)\n",
    "\n",
    "print(test_x.shape)\n",
    "print(test_y.shape)"
   ]
  },
  {
   "cell_type": "code",
   "execution_count": 11,
   "metadata": {
    "colab": {
     "base_uri": "https://localhost:8080/"
    },
    "executionInfo": {
     "elapsed": 374,
     "status": "ok",
     "timestamp": 1652416865463,
     "user": {
      "displayName": "조숙현",
      "userId": "17948902390149034364"
     },
     "user_tz": -540
    },
    "id": "DwzYs7iTwUHH",
    "outputId": "eb008941-6452-43a8-dc47-39f9a9c123a8"
   },
   "outputs": [
    {
     "name": "stdout",
     "output_type": "stream",
     "text": [
      "Optimization terminated successfully.\n",
      "         Current function value: 0.554770\n",
      "         Iterations 7\n"
     ]
    }
   ],
   "source": [
    "#logictic regression\n",
    "train_x = sm.add_constant(train_x) #상수항 결합 : 앞에 1붙여줌\n",
    "model = sm.Logit(train_y, train_x)\n",
    "model = model.fit()"
   ]
  },
  {
   "cell_type": "code",
   "execution_count": 39,
   "metadata": {
    "colab": {
     "base_uri": "https://localhost:8080/"
    },
    "executionInfo": {
     "elapsed": 451,
     "status": "ok",
     "timestamp": 1652416868304,
     "user": {
      "displayName": "조숙현",
      "userId": "17948902390149034364"
     },
     "user_tz": -540
    },
    "id": "bIss3IUlxTWY",
    "outputId": "67173c7a-3021-4331-d958-efe20c54e108",
    "scrolled": true
   },
   "outputs": [
    {
     "name": "stdout",
     "output_type": "stream",
     "text": [
      "const           -0.2592\n",
      "상장유지년도(X1)      -0.0018\n",
      "배당성향(X3)        -0.0015\n",
      "배당률(X4)          0.0033\n",
      "당기순손실여부(X5)     -0.0403\n",
      "주당순이익감소여부(X6)   -1.5671\n",
      "유동비율(X7)         0.0001\n",
      "부채비율(X8)        -0.0009\n",
      "총자산증가율(X10)      0.0212\n",
      "매출액증가율(X11)     -0.0005\n",
      "매출액순이익률(X12)    -0.0059\n",
      "총자본영업이익률(X13)    0.0737\n",
      "자기자본순이익률(X14)    0.0129\n",
      "외국인지분율(X17)      0.0030\n",
      "외국인지분율변동(X18)   -0.0135\n",
      "dtype: float64\n"
     ]
    }
   ],
   "source": [
    "model.params.round(4)"
   ]
  },
  {
   "cell_type": "code",
   "execution_count": 13,
   "metadata": {
    "colab": {
     "base_uri": "https://localhost:8080/"
    },
    "executionInfo": {
     "elapsed": 509,
     "status": "ok",
     "timestamp": 1652416876198,
     "user": {
      "displayName": "조숙현",
      "userId": "17948902390149034364"
     },
     "user_tz": -540
    },
    "id": "4-_R8YfXxbjV",
    "outputId": "eeeeb329-701b-4daa-80dd-a46fcb20ba49",
    "scrolled": true
   },
   "outputs": [
    {
     "name": "stdout",
     "output_type": "stream",
     "text": [
      "                           Logit Regression Results                           \n",
      "==============================================================================\n",
      "Dep. Variable:               배당정책_(Y)   No. Observations:                  531\n",
      "Model:                          Logit   Df Residuals:                      516\n",
      "Method:                           MLE   Df Model:                           14\n",
      "Date:                Fri, 13 May 2022   Pseudo R-squ.:                  0.1947\n",
      "Time:                        17:34:05   Log-Likelihood:                -294.58\n",
      "converged:                       True   LL-Null:                       -365.80\n",
      "Covariance Type:            nonrobust   LLR p-value:                 2.332e-23\n",
      "=================================================================================\n",
      "                    coef    std err          z      P>|z|      [0.025      0.975]\n",
      "---------------------------------------------------------------------------------\n",
      "const            -0.2592      0.362     -0.716      0.474      -0.969       0.450\n",
      "상장유지년도(X1)       -0.0018      0.008     -0.221      0.825      -0.018       0.014\n",
      "배당성향(X3)         -0.0015      0.002     -0.927      0.354      -0.005       0.002\n",
      "배당률(X4)           0.0033      0.002      2.016      0.044    9.11e-05       0.006\n",
      "당기순손실여부(X5)      -0.0403      0.434     -0.093      0.926      -0.892       0.811\n",
      "주당순이익감소여부(X6)    -1.5671      0.229     -6.834      0.000      -2.017      -1.118\n",
      "유동비율(X7)          0.0001   7.75e-05      1.748      0.080   -1.64e-05       0.000\n",
      "부채비율(X8)         -0.0009      0.002     -0.467      0.641      -0.005       0.003\n",
      "총자산증가율(X10)       0.0212      0.009      2.384      0.017       0.004       0.039\n",
      "매출액증가율(X11)      -0.0005      0.002     -0.216      0.829      -0.005       0.004\n",
      "매출액순이익률(X12)     -0.0059      0.005     -1.093      0.275      -0.017       0.005\n",
      "총자본영업이익률(X13)     0.0737      0.027      2.737      0.006       0.021       0.126\n",
      "자기자본순이익률(X14)     0.0129      0.016      0.826      0.409      -0.018       0.043\n",
      "외국인지분율(X17)       0.0030      0.010      0.296      0.767      -0.017       0.023\n",
      "외국인지분율변동(X18)    -0.0135      0.209     -0.065      0.948      -0.423       0.396\n",
      "=================================================================================\n"
     ]
    }
   ],
   "source": [
    "print(model.summary())"
   ]
  },
  {
   "cell_type": "code",
   "execution_count": 38,
   "metadata": {},
   "outputs": [
    {
     "data": {
      "text/plain": [
       "const            0.4739\n",
       "상장유지년도(X1)       0.8253\n",
       "배당성향(X3)         0.3537\n",
       "배당률(X4)          0.0438\n",
       "당기순손실여부(X5)      0.9262\n",
       "주당순이익감소여부(X6)    0.0000\n",
       "유동비율(X7)         0.0805\n",
       "부채비율(X8)         0.6405\n",
       "총자산증가율(X10)      0.0171\n",
       "매출액증가율(X11)      0.8286\n",
       "매출액순이익률(X12)     0.2745\n",
       "총자본영업이익률(X13)    0.0062\n",
       "자기자본순이익률(X14)    0.4086\n",
       "외국인지분율(X17)      0.7670\n",
       "외국인지분율변동(X18)    0.9483\n",
       "dtype: float64"
      ]
     },
     "execution_count": 38,
     "metadata": {},
     "output_type": "execute_result"
    }
   ],
   "source": [
    "model.pvalues.round(4)"
   ]
  },
  {
   "cell_type": "code",
   "execution_count": 41,
   "metadata": {},
   "outputs": [
    {
     "data": {
      "text/plain": [
       "Index(['상장유지년도(X1)', '배당성향(X3)', '배당률(X4)', '당기순손실여부(X5)', '주당순이익감소여부(X6)',\n",
       "       '유동비율(X7)', '부채비율(X8)', '총자산증가율(X10)', '매출액증가율(X11)', '매출액순이익률(X12)',\n",
       "       '총자본영업이익률(X13)', '자기자본순이익률(X14)', '외국인지분율(X17)', '외국인지분율변동(X18)'],\n",
       "      dtype='object')"
      ]
     },
     "execution_count": 41,
     "metadata": {},
     "output_type": "execute_result"
    }
   ],
   "source": [
    "X.columns"
   ]
  },
  {
   "cell_type": "code",
   "execution_count": 43,
   "metadata": {},
   "outputs": [
    {
     "data": {
      "text/html": [
       "<div>\n",
       "<style scoped>\n",
       "    .dataframe tbody tr th:only-of-type {\n",
       "        vertical-align: middle;\n",
       "    }\n",
       "\n",
       "    .dataframe tbody tr th {\n",
       "        vertical-align: top;\n",
       "    }\n",
       "\n",
       "    .dataframe thead th {\n",
       "        text-align: right;\n",
       "    }\n",
       "</style>\n",
       "<table border=\"1\" class=\"dataframe\">\n",
       "  <thead>\n",
       "    <tr style=\"text-align: right;\">\n",
       "      <th></th>\n",
       "      <th>Coefficient(회귀계수)</th>\n",
       "      <th>p-Value(유의확률)</th>\n",
       "    </tr>\n",
       "  </thead>\n",
       "  <tbody>\n",
       "    <tr>\n",
       "      <th>const</th>\n",
       "      <td>-0.2592</td>\n",
       "      <td>0.4739</td>\n",
       "    </tr>\n",
       "    <tr>\n",
       "      <th>상장유지년도(X1)</th>\n",
       "      <td>-0.0018</td>\n",
       "      <td>0.8253</td>\n",
       "    </tr>\n",
       "    <tr>\n",
       "      <th>배당성향(X3)</th>\n",
       "      <td>-0.0015</td>\n",
       "      <td>0.3537</td>\n",
       "    </tr>\n",
       "    <tr>\n",
       "      <th>배당률(X4)</th>\n",
       "      <td>0.0033</td>\n",
       "      <td>0.0438</td>\n",
       "    </tr>\n",
       "    <tr>\n",
       "      <th>당기순손실여부(X5)</th>\n",
       "      <td>-0.0403</td>\n",
       "      <td>0.9262</td>\n",
       "    </tr>\n",
       "    <tr>\n",
       "      <th>주당순이익감소여부(X6)</th>\n",
       "      <td>-1.5671</td>\n",
       "      <td>0.0000</td>\n",
       "    </tr>\n",
       "    <tr>\n",
       "      <th>유동비율(X7)</th>\n",
       "      <td>0.0001</td>\n",
       "      <td>0.0805</td>\n",
       "    </tr>\n",
       "    <tr>\n",
       "      <th>부채비율(X8)</th>\n",
       "      <td>-0.0009</td>\n",
       "      <td>0.6405</td>\n",
       "    </tr>\n",
       "    <tr>\n",
       "      <th>총자산증가율(X10)</th>\n",
       "      <td>0.0212</td>\n",
       "      <td>0.0171</td>\n",
       "    </tr>\n",
       "    <tr>\n",
       "      <th>매출액증가율(X11)</th>\n",
       "      <td>-0.0005</td>\n",
       "      <td>0.8286</td>\n",
       "    </tr>\n",
       "    <tr>\n",
       "      <th>매출액순이익률(X12)</th>\n",
       "      <td>-0.0059</td>\n",
       "      <td>0.2745</td>\n",
       "    </tr>\n",
       "    <tr>\n",
       "      <th>총자본영업이익률(X13)</th>\n",
       "      <td>0.0737</td>\n",
       "      <td>0.0062</td>\n",
       "    </tr>\n",
       "    <tr>\n",
       "      <th>자기자본순이익률(X14)</th>\n",
       "      <td>0.0129</td>\n",
       "      <td>0.4086</td>\n",
       "    </tr>\n",
       "    <tr>\n",
       "      <th>외국인지분율(X17)</th>\n",
       "      <td>0.0030</td>\n",
       "      <td>0.7670</td>\n",
       "    </tr>\n",
       "    <tr>\n",
       "      <th>외국인지분율변동(X18)</th>\n",
       "      <td>-0.0135</td>\n",
       "      <td>0.9483</td>\n",
       "    </tr>\n",
       "  </tbody>\n",
       "</table>\n",
       "</div>"
      ],
      "text/plain": [
       "               Coefficient(회귀계수)  p-Value(유의확률)\n",
       "const                    -0.2592         0.4739\n",
       "상장유지년도(X1)               -0.0018         0.8253\n",
       "배당성향(X3)                 -0.0015         0.3537\n",
       "배당률(X4)                   0.0033         0.0438\n",
       "당기순손실여부(X5)              -0.0403         0.9262\n",
       "주당순이익감소여부(X6)            -1.5671         0.0000\n",
       "유동비율(X7)                  0.0001         0.0805\n",
       "부채비율(X8)                 -0.0009         0.6405\n",
       "총자산증가율(X10)               0.0212         0.0171\n",
       "매출액증가율(X11)              -0.0005         0.8286\n",
       "매출액순이익률(X12)             -0.0059         0.2745\n",
       "총자본영업이익률(X13)             0.0737         0.0062\n",
       "자기자본순이익률(X14)             0.0129         0.4086\n",
       "외국인지분율(X17)               0.0030         0.7670\n",
       "외국인지분율변동(X18)            -0.0135         0.9483"
      ]
     },
     "execution_count": 43,
     "metadata": {},
     "output_type": "execute_result"
    }
   ],
   "source": [
    "# coefficient 값과 p-value값 데이터프레임으로 나타내기\n",
    "pd.DataFrame({\n",
    "    'Coefficient(회귀계수)' : model.params.round(4),\n",
    "    'p-Value(유의확률)' : model.pvalues.round(4)\n",
    "})"
   ]
  },
  {
   "cell_type": "markdown",
   "metadata": {
    "id": "23uClXOryykp"
   },
   "source": [
    " p.value\n",
    "- 2020 배당률(X4), 주당순이익감소여부_2020(X6), 총자본영업이익률_전기(X13)는 pvalue가 0.05보다 작음<br>\n",
    "=>coef가 0보다 크다는 뜻으로 유의한 변수들임을 의미"
   ]
  },
  {
   "cell_type": "markdown",
   "metadata": {
    "id": "-bE9s5ZFyVv1"
   },
   "source": [
    "odds를 알기 위해서는 exponential을 해주어야 함 (log 없애기)"
   ]
  },
  {
   "cell_type": "code",
   "execution_count": 25,
   "metadata": {
    "colab": {
     "base_uri": "https://localhost:8080/"
    },
    "executionInfo": {
     "elapsed": 411,
     "status": "ok",
     "timestamp": 1652417096174,
     "user": {
      "displayName": "조숙현",
      "userId": "17948902390149034364"
     },
     "user_tz": -540
    },
    "id": "6MZ-feyNxwcg",
    "outputId": "f512b73b-a865-489f-e8a4-ca24f0a88748"
   },
   "outputs": [
    {
     "data": {
      "text/plain": [
       "const                 1.2247\n",
       "상장유지년도_2020(X1)       0.9995\n",
       "2020 배당성향(X3)         0.9949\n",
       "2020 배당률(X4)          1.0028\n",
       "당기순손실여부_2020(X5)      0.7041\n",
       "주당순이익감소여부_2020(X6)    0.2389\n",
       "유동비율_전기(X7)           1.0001\n",
       "부채비율_전기(X8)           0.9994\n",
       "총자산증가율_전기(X10)        1.0031\n",
       "매출액증가율_전기(X11)        1.0023\n",
       "매출액순이익률_전기(X12)       0.9921\n",
       "총자본영업이익률_전기(X13)      1.0730\n",
       "자기자본순이익률_전기(X14)      1.0017\n",
       "2020_외국인지분율(X17)      1.0040\n",
       "외국인지분율변동_2020(X18)    0.8358\n",
       "dtype: float64"
      ]
     },
     "execution_count": 25,
     "metadata": {},
     "output_type": "execute_result"
    }
   ],
   "source": [
    "np.exp(model.params).round(4)"
   ]
  },
  {
   "cell_type": "markdown",
   "metadata": {
    "id": "JRznHiB7Ocrd"
   },
   "source": [
    "# 데이터 예측"
   ]
  },
  {
   "cell_type": "code",
   "execution_count": 15,
   "metadata": {
    "colab": {
     "base_uri": "https://localhost:8080/"
    },
    "executionInfo": {
     "elapsed": 451,
     "status": "ok",
     "timestamp": 1652417110297,
     "user": {
      "displayName": "조숙현",
      "userId": "17948902390149034364"
     },
     "user_tz": -540
    },
    "id": "mpt6kwHryyOI",
    "outputId": "ad593f72-e934-4f88-b4f0-0e9a8e2a25e0"
   },
   "outputs": [
    {
     "name": "stderr",
     "output_type": "stream",
     "text": [
      "C:\\Users\\LHJ\\anaconda3\\lib\\site-packages\\statsmodels\\tsa\\tsatools.py:142: FutureWarning: In a future version of pandas all arguments of concat except for the argument 'objs' will be keyword-only\n",
      "  x = pd.concat(x[::order], 1)\n"
     ]
    },
    {
     "data": {
      "text/plain": [
       "531    0.878467\n",
       "532    0.526973\n",
       "533    0.473305\n",
       "534    0.270667\n",
       "535    0.336837\n",
       "         ...   \n",
       "659    0.591014\n",
       "660    0.522974\n",
       "661    0.767034\n",
       "662    0.095276\n",
       "663    0.611696\n",
       "Length: 133, dtype: float64"
      ]
     },
     "execution_count": 15,
     "metadata": {},
     "output_type": "execute_result"
    }
   ],
   "source": [
    "#prediction\n",
    "test_x = sm.add_constant(test_x)\n",
    "pred = model.predict(test_x)\n",
    "pred"
   ]
  },
  {
   "cell_type": "code",
   "execution_count": 16,
   "metadata": {
    "executionInfo": {
     "elapsed": 497,
     "status": "ok",
     "timestamp": 1652417117214,
     "user": {
      "displayName": "조숙현",
      "userId": "17948902390149034364"
     },
     "user_tz": -540
    },
    "id": "UO64d6qaPQg0"
   },
   "outputs": [],
   "source": [
    "yhat = model.predict(test_x)\n",
    "prediction = list(map(round, yhat))"
   ]
  },
  {
   "cell_type": "code",
   "execution_count": 18,
   "metadata": {
    "colab": {
     "base_uri": "https://localhost:8080/"
    },
    "executionInfo": {
     "elapsed": 429,
     "status": "ok",
     "timestamp": 1652417119180,
     "user": {
      "displayName": "조숙현",
      "userId": "17948902390149034364"
     },
     "user_tz": -540
    },
    "id": "HknTQ9LGP4Cn",
    "outputId": "ee840acf-2fb8-4341-be8f-733ddf5497d9"
   },
   "outputs": [
    {
     "name": "stdout",
     "output_type": "stream",
     "text": [
      "실제값: [0, 0, 0, 0, 0, 1, 1, 0, 1, 0, 1, 0, 0, 0, 1, 1, 0, 1, 0, 1, 0, 1, 1, 0, 1, 1, 1, 0, 0, 1, 1, 1, 1, 0, 1, 0, 0, 0, 1, 1, 0, 1, 1, 0, 0, 0, 1, 0, 0, 0, 1, 1, 1, 0, 0, 0, 1, 1, 0, 1, 0, 0, 0, 1, 0, 0, 1, 0, 0, 0, 1, 1, 1, 0, 1, 0, 0, 1, 0, 1, 0, 0, 1, 1, 0, 1, 0, 0, 1, 0, 0, 0, 0, 0, 1, 0, 0, 0, 0, 0, 1, 0, 1, 1, 1, 0, 0, 0, 0, 0, 0, 1, 1, 0, 1, 0, 1, 0, 1, 1, 0, 0, 0, 0, 1, 0, 1, 1, 0, 1, 1, 1, 1]\n",
      "예측값: [1, 1, 0, 0, 0, 0, 1, 0, 1, 0, 1, 1, 1, 1, 1, 1, 1, 1, 0, 1, 1, 1, 1, 0, 1, 1, 1, 1, 0, 1, 1, 1, 0, 1, 0, 0, 0, 0, 0, 1, 0, 1, 1, 0, 1, 1, 0, 1, 1, 0, 0, 1, 1, 0, 1, 0, 1, 1, 1, 1, 1, 1, 1, 1, 0, 0, 1, 0, 1, 1, 1, 0, 0, 0, 1, 1, 0, 1, 0, 1, 1, 0, 0, 1, 0, 1, 0, 1, 1, 0, 0, 1, 0, 0, 0, 1, 0, 1, 0, 0, 1, 0, 1, 1, 1, 0, 0, 0, 1, 0, 0, 0, 1, 1, 1, 0, 1, 1, 1, 1, 0, 0, 0, 0, 0, 1, 0, 1, 1, 1, 1, 0, 1]\n"
     ]
    }
   ],
   "source": [
    "#실제값과 예측값 비교\n",
    "print('실제값:', list(test_y.values))\n",
    "print('예측값:', prediction)"
   ]
  },
  {
   "cell_type": "code",
   "execution_count": 23,
   "metadata": {},
   "outputs": [
    {
     "data": {
      "text/plain": [
       "0    74\n",
       "1    59\n",
       "Name: 배당정책_(Y), dtype: int64"
      ]
     },
     "execution_count": 23,
     "metadata": {},
     "output_type": "execute_result"
    }
   ],
   "source": [
    "test_y.value_counts()"
   ]
  },
  {
   "cell_type": "markdown",
   "metadata": {
    "id": "Wu60q5VPUl8a"
   },
   "source": [
    "# 모델 정확도 테스트"
   ]
  },
  {
   "cell_type": "code",
   "execution_count": 21,
   "metadata": {
    "colab": {
     "base_uri": "https://localhost:8080/"
    },
    "executionInfo": {
     "elapsed": 561,
     "status": "ok",
     "timestamp": 1652417184934,
     "user": {
      "displayName": "조숙현",
      "userId": "17948902390149034364"
     },
     "user_tz": -540
    },
    "id": "Uv4MwM1rSnO8",
    "outputId": "92e6f54e-86e1-458c-fe07-e2750125fffc"
   },
   "outputs": [
    {
     "name": "stdout",
     "output_type": "stream",
     "text": [
      "Confusion Matrix : \n",
      " [[45 14]\n",
      " [31 43]]\n",
      "Test accuracy =  0.6616541353383458\n"
     ]
    }
   ],
   "source": [
    "from sklearn.metrics import (confusion_matrix, accuracy_score)\n",
    "\n",
    "#confusion_matrix\n",
    "cm = confusion_matrix(test_y, prediction, labels=[1, 0])\n",
    "print('Confusion Matrix : \\n', cm )\n",
    "\n",
    "# 모델의 accuracy score\n",
    "print('Test accuracy = ', accuracy_score(test_y, prediction))"
   ]
  },
  {
   "cell_type": "markdown",
   "metadata": {
    "id": "rkhxi0Tq9OjA"
   },
   "source": [
    "기여도(민감도) 분석"
   ]
  },
  {
   "cell_type": "code",
   "execution_count": 29,
   "metadata": {
    "colab": {
     "base_uri": "https://localhost:8080/",
     "height": 1000
    },
    "executionInfo": {
     "elapsed": 595,
     "status": "ok",
     "timestamp": 1652418530328,
     "user": {
      "displayName": "조숙현",
      "userId": "17948902390149034364"
     },
     "user_tz": -540
    },
    "id": "9NdToTtIWW6D",
    "outputId": "32e14418-c478-42ef-a9f8-9754cce94033"
   },
   "outputs": [
    {
     "data": {
      "image/png": "[encoded data removed]",
      "text/plain": [
       "<Figure size 720x756 with 1 Axes>"
      ]
     },
     "metadata": {
      "needs_background": "light"
     },
     "output_type": "display_data"
    },
    {
     "data": {
      "text/html": [
       "<div>\n",
       "<style scoped>\n",
       "    .dataframe tbody tr th:only-of-type {\n",
       "        vertical-align: middle;\n",
       "    }\n",
       "\n",
       "    .dataframe tbody tr th {\n",
       "        vertical-align: top;\n",
       "    }\n",
       "\n",
       "    .dataframe thead th {\n",
       "        text-align: right;\n",
       "    }\n",
       "</style>\n",
       "<table border=\"1\" class=\"dataframe\">\n",
       "  <thead>\n",
       "    <tr style=\"text-align: right;\">\n",
       "      <th></th>\n",
       "      <th>idx</th>\n",
       "      <th>task</th>\n",
       "      <th>x</th>\n",
       "      <th>contribution_x</th>\n",
       "    </tr>\n",
       "  </thead>\n",
       "  <tbody>\n",
       "    <tr>\n",
       "      <th>총자본영업이익률(X13)</th>\n",
       "      <td>0</td>\n",
       "      <td>LogitReg</td>\n",
       "      <td>19.240</td>\n",
       "      <td>0.804905</td>\n",
       "    </tr>\n",
       "    <tr>\n",
       "      <th>총자산증가율(X10)</th>\n",
       "      <td>0</td>\n",
       "      <td>LogitReg</td>\n",
       "      <td>18.170</td>\n",
       "      <td>0.595119</td>\n",
       "    </tr>\n",
       "    <tr>\n",
       "      <th>자기자본순이익률(X14)</th>\n",
       "      <td>0</td>\n",
       "      <td>LogitReg</td>\n",
       "      <td>24.210</td>\n",
       "      <td>0.577453</td>\n",
       "    </tr>\n",
       "    <tr>\n",
       "      <th>배당률(X4)</th>\n",
       "      <td>0</td>\n",
       "      <td>LogitReg</td>\n",
       "      <td>90.000</td>\n",
       "      <td>0.572834</td>\n",
       "    </tr>\n",
       "    <tr>\n",
       "      <th>유동비율(X7)</th>\n",
       "      <td>0</td>\n",
       "      <td>LogitReg</td>\n",
       "      <td>384.310</td>\n",
       "      <td>0.513017</td>\n",
       "    </tr>\n",
       "    <tr>\n",
       "      <th>외국인지분율(X17)</th>\n",
       "      <td>0</td>\n",
       "      <td>LogitReg</td>\n",
       "      <td>0.990</td>\n",
       "      <td>0.500734</td>\n",
       "    </tr>\n",
       "    <tr>\n",
       "      <th>매출액증가율(X11)</th>\n",
       "      <td>0</td>\n",
       "      <td>LogitReg</td>\n",
       "      <td>-0.880</td>\n",
       "      <td>0.500112</td>\n",
       "    </tr>\n",
       "    <tr>\n",
       "      <th>당기순손실여부(X5)</th>\n",
       "      <td>0</td>\n",
       "      <td>LogitReg</td>\n",
       "      <td>0.000</td>\n",
       "      <td>0.500000</td>\n",
       "    </tr>\n",
       "    <tr>\n",
       "      <th>주당순이익감소여부(X6)</th>\n",
       "      <td>0</td>\n",
       "      <td>LogitReg</td>\n",
       "      <td>0.000</td>\n",
       "      <td>0.500000</td>\n",
       "    </tr>\n",
       "    <tr>\n",
       "      <th>상장유지년도(X1)</th>\n",
       "      <td>0</td>\n",
       "      <td>LogitReg</td>\n",
       "      <td>5.000</td>\n",
       "      <td>0.497724</td>\n",
       "    </tr>\n",
       "    <tr>\n",
       "      <th>외국인지분율변동(X18)</th>\n",
       "      <td>0</td>\n",
       "      <td>LogitReg</td>\n",
       "      <td>1.000</td>\n",
       "      <td>0.496618</td>\n",
       "    </tr>\n",
       "    <tr>\n",
       "      <th>배당성향(X3)</th>\n",
       "      <td>0</td>\n",
       "      <td>LogitReg</td>\n",
       "      <td>9.942</td>\n",
       "      <td>0.496366</td>\n",
       "    </tr>\n",
       "    <tr>\n",
       "      <th>부채비율(X8)</th>\n",
       "      <td>0</td>\n",
       "      <td>LogitReg</td>\n",
       "      <td>44.050</td>\n",
       "      <td>0.489768</td>\n",
       "    </tr>\n",
       "    <tr>\n",
       "      <th>매출액순이익률(X12)</th>\n",
       "      <td>0</td>\n",
       "      <td>LogitReg</td>\n",
       "      <td>25.020</td>\n",
       "      <td>0.462992</td>\n",
       "    </tr>\n",
       "    <tr>\n",
       "      <th>const</th>\n",
       "      <td>0</td>\n",
       "      <td>LogitReg</td>\n",
       "      <td>1.000</td>\n",
       "      <td>0.435556</td>\n",
       "    </tr>\n",
       "  </tbody>\n",
       "</table>\n",
       "</div>"
      ],
      "text/plain": [
       "               idx      task        x  contribution_x\n",
       "총자본영업이익률(X13)    0  LogitReg   19.240        0.804905\n",
       "총자산증가율(X10)      0  LogitReg   18.170        0.595119\n",
       "자기자본순이익률(X14)    0  LogitReg   24.210        0.577453\n",
       "배당률(X4)          0  LogitReg   90.000        0.572834\n",
       "유동비율(X7)         0  LogitReg  384.310        0.513017\n",
       "외국인지분율(X17)      0  LogitReg    0.990        0.500734\n",
       "매출액증가율(X11)      0  LogitReg   -0.880        0.500112\n",
       "당기순손실여부(X5)      0  LogitReg    0.000        0.500000\n",
       "주당순이익감소여부(X6)    0  LogitReg    0.000        0.500000\n",
       "상장유지년도(X1)       0  LogitReg    5.000        0.497724\n",
       "외국인지분율변동(X18)    0  LogitReg    1.000        0.496618\n",
       "배당성향(X3)         0  LogitReg    9.942        0.496366\n",
       "부채비율(X8)         0  LogitReg   44.050        0.489768\n",
       "매출액순이익률(X12)     0  LogitReg   25.020        0.462992\n",
       "const            0  LogitReg    1.000        0.435556"
      ]
     },
     "execution_count": 29,
     "metadata": {},
     "output_type": "execute_result"
    }
   ],
   "source": [
    "# UDF for contribution(sensitivity) analysis per each variables\n",
    "# task: \"LogitReg\"\n",
    "\n",
    "def sensitivity_analysis_LinearReg_LogitReg(task, model, X, idx, bar_plot_yn):\n",
    "    import numpy as np\n",
    "    import pandas as pd\n",
    "    import matplotlib.pyplot as plt\n",
    "    import statsmodels.api as sm\n",
    "\n",
    "    pd.options.mode.chained_assignment = None\n",
    "\n",
    "    # get one object's X values\n",
    "    X_i = X.iloc[idx, :]\n",
    "\n",
    "    # make a matrix with zeros with shape of [num_cols, num_cols]\n",
    "    X_mat = np.zeros(shape=[X_i.shape[0], X_i.shape[0]])\n",
    "\n",
    "    # fil X_mat with values from one by one columns, leaving the ohters zeros\n",
    "    for i, j in enumerate(X_i):\n",
    "\n",
    "        X_mat[i, i] = j\n",
    "\n",
    "    # data frame with contribution of each X columns in descending order\n",
    "    sensitivity_df = pd.DataFrame({\n",
    "\n",
    "        'idx': idx\n",
    "        , 'task': task\n",
    "        , 'x': X_i\n",
    "        , 'contribution_x': model.predict(X_mat)})\n",
    "\n",
    "    sensitivity_df = sensitivity_df.sort_values(by='contribution_x', ascending=True)\n",
    "\n",
    "    \n",
    "\n",
    "    # if bar_plot_yn == True then display it\n",
    "\n",
    "    col_n = X_i.shape[0]\n",
    "\n",
    "    if bar_plot_yn == True:\n",
    "\n",
    "        sensitivity_df['contribution_x'].plot(kind='barh', figsize=(10, 0.7*col_n))\n",
    "\n",
    "        plt.title('Sensitivity Analysis', fontsize=18)\n",
    "\n",
    "        plt.xlabel('Contribution', fontsize=16)\n",
    "\n",
    "        plt.ylabel('Variable', fontsize=16)\n",
    "\n",
    "        plt.yticks(fontsize=14)\n",
    "\n",
    "        plt.show()\n",
    "\n",
    "    return sensitivity_df.sort_values(by='contribution_x', ascending=False)\n",
    "\n",
    "\n",
    "# apply sensitivity analysis function on 1st observation for Logistic Regression\n",
    "\n",
    "sensitivity_analysis_LinearReg_LogitReg(task=\"LogitReg\"\n",
    "                                        , model=model\n",
    "                                        , X=test_x\n",
    "                                        , idx=0\n",
    "                                        , bar_plot_yn=True)"
   ]
  },
  {
   "cell_type": "code",
   "execution_count": 30,
   "metadata": {
    "executionInfo": {
     "elapsed": 9,
     "status": "ok",
     "timestamp": 1652417251695,
     "user": {
      "displayName": "조숙현",
      "userId": "17948902390149034364"
     },
     "user_tz": -540
    },
    "id": "kiWNyc2L3xLM"
   },
   "outputs": [],
   "source": [
    "import scikitplot as skplt\n",
    "from sklearn.metrics import roc_auc_score"
   ]
  },
  {
   "cell_type": "code",
   "execution_count": 44,
   "metadata": {
    "colab": {
     "base_uri": "https://localhost:8080/"
    },
    "executionInfo": {
     "elapsed": 2,
     "status": "ok",
     "timestamp": 1652417253483,
     "user": {
      "displayName": "조숙현",
      "userId": "17948902390149034364"
     },
     "user_tz": -540
    },
    "id": "rN5JMt7K4BYl",
    "outputId": "a330da8d-0cb7-4d6a-995a-b1dbd8619f28"
   },
   "outputs": [
    {
     "name": "stdout",
     "output_type": "stream",
     "text": [
      "0.7134677049931286\n"
     ]
    }
   ],
   "source": [
    "# auc점수 구하기\n",
    "print(roc_auc_score(test_y, model.predict(test_x)))"
   ]
  },
  {
   "cell_type": "markdown",
   "metadata": {
    "id": "qbyUy6NQ9GEf"
   },
   "source": [
    "---"
   ]
  }
 ],
 "metadata": {
  "colab": {
   "authorship_tag": "ABX9TyOPL3ptbAivT306Q4x91DKj",
   "collapsed_sections": [],
   "mount_file_id": "15v6cteWx8Zy6mSMn6Mb9RswE8CRHQ34U",
   "name": "배당정책예측 로지스틱회귀(statsmodels).ipynb",
   "provenance": []
  },
  "kernelspec": {
   "display_name": "Python 3 (ipykernel)",
   "language": "python",
   "name": "python3"
  },
  "language_info": {
   "codemirror_mode": {
    "name": "ipython",
    "version": 3
   },
   "file_extension": ".py",
   "mimetype": "text/x-python",
   "name": "python",
   "nbconvert_exporter": "python",
   "pygments_lexer": "ipython3",
   "version": "3.9.7"
  }
 },
 "nbformat": 4,
 "nbformat_minor": 1
}
