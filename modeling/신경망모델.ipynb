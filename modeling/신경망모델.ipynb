{
 "cells": [
  {
   "cell_type": "code",
   "execution_count": 193,
   "id": "6e11d6dd",
   "metadata": {},
   "outputs": [],
   "source": [
    "import pandas as pd\n",
    "import matplotlib.pyplot as plt\n",
    "import seaborn as sns\n",
    "import numpy as np\n",
    "from sklearn.metrics import roc_curve, accuracy_score, confusion_matrix, recall_score, precision_score\n",
    "# matplotlib 한글 폰트 오류 문제 해결\n",
    "# font_manager는 경로와 이름을 가지고 폰트를 지정\n",
    "# rc는 폰트를 적용\n",
    "from matplotlib import font_manager, rc\n",
    "font_path = \"./malgun.ttf\"\n",
    "font_name = font_manager.FontProperties(fname=font_path).get_name()\n",
    "rc('font', family=font_name)\n",
    "\n",
    "import tensorflow as tf\n",
    "from tensorflow.keras.models import Sequential, load_model\n",
    "from tensorflow.keras.layers import Dense\n",
    "from tensorflow.keras.optimizers import SGD, Adam\n",
    "\n",
    "from tensorflow.keras.callbacks import ModelCheckpoint, TensorBoard, ReduceLROnPlateau"
   ]
  },
  {
   "cell_type": "code",
   "execution_count": null,
   "id": "e7febe57",
   "metadata": {},
   "outputs": [],
   "source": []
  },
  {
   "cell_type": "code",
   "execution_count": 194,
   "id": "c22300fc",
   "metadata": {},
   "outputs": [],
   "source": [
    "df = pd.read_csv(\"./20202021data.csv\", encoding = \"euc-kr\")\n"
   ]
  },
  {
   "cell_type": "code",
   "execution_count": 195,
   "id": "bd2ea213",
   "metadata": {},
   "outputs": [
    {
     "data": {
      "text/plain": [
       "Index(['Unnamed: 0', '회사명', '상장유지년도_2020(X1)', '2020 배당성향(X3)', '2020 배당률(X4)',\n",
       "       '당기순손실여부_2020(X5)', '주당순이익감소여부_2020(X6)', '유동비율_전기(X7)', '부채비율_전기(X8)',\n",
       "       '총자산증가율_전기(X10)', '매출액증가율_전기(X11)', '매출액순이익률_전기(X12)',\n",
       "       '총자본영업이익률_전기(X13)', '자기자본순이익률_전기(X14)', '2020_외국인지분율(X17)',\n",
       "       '외국인지분율변동_2020(X18)', '배당정책_2020(Y)'],\n",
       "      dtype='object')"
      ]
     },
     "execution_count": 195,
     "metadata": {},
     "output_type": "execute_result"
    }
   ],
   "source": [
    "df.columns"
   ]
  },
  {
   "cell_type": "code",
   "execution_count": 196,
   "id": "8775e065",
   "metadata": {},
   "outputs": [],
   "source": [
    "df = df[['상장유지년도_2020(X1)', '2020 배당성향(X3)', '2020 배당률(X4)',\n",
    "       '당기순손실여부_2020(X5)', '주당순이익감소여부_2020(X6)', '유동비율_전기(X7)', '부채비율_전기(X8)',\n",
    "       '총자산증가율_전기(X10)', '매출액증가율_전기(X11)', '매출액순이익률_전기(X12)',\n",
    "       '총자본영업이익률_전기(X13)', '자기자본순이익률_전기(X14)', '2020_외국인지분율(X17)',\n",
    "       '외국인지분율변동_2020(X18)', '배당정책_2020(Y)']]"
   ]
  },
  {
   "cell_type": "markdown",
   "id": "114cdb89",
   "metadata": {},
   "source": [
    "# 표준화작업"
   ]
  },
  {
   "cell_type": "code",
   "execution_count": 199,
   "id": "23494327",
   "metadata": {},
   "outputs": [
    {
     "data": {
      "text/html": [
       "<div>\n",
       "<style scoped>\n",
       "    .dataframe tbody tr th:only-of-type {\n",
       "        vertical-align: middle;\n",
       "    }\n",
       "\n",
       "    .dataframe tbody tr th {\n",
       "        vertical-align: top;\n",
       "    }\n",
       "\n",
       "    .dataframe thead th {\n",
       "        text-align: right;\n",
       "    }\n",
       "</style>\n",
       "<table border=\"1\" class=\"dataframe\">\n",
       "  <thead>\n",
       "    <tr style=\"text-align: right;\">\n",
       "      <th></th>\n",
       "      <th>상장유지년도(X1)</th>\n",
       "      <th>배당성향(X3)</th>\n",
       "      <th>배당률(X4)</th>\n",
       "      <th>당기순손실여부(X5)</th>\n",
       "      <th>주당순이익감소여부(X6)</th>\n",
       "      <th>유동비율(X7)</th>\n",
       "      <th>부채비율(X8)</th>\n",
       "      <th>총자산증가율(X10)</th>\n",
       "      <th>매출액증가율(X11)</th>\n",
       "      <th>매출액순이익률(X12)</th>\n",
       "      <th>총자본영업이익률(X13)</th>\n",
       "      <th>자기자본순이익률(X14)</th>\n",
       "      <th>외국인지분율(X17)</th>\n",
       "      <th>외국인지분율변동(X18)</th>\n",
       "    </tr>\n",
       "  </thead>\n",
       "  <tbody>\n",
       "    <tr>\n",
       "      <th>0</th>\n",
       "      <td>-1.171724</td>\n",
       "      <td>1.888182</td>\n",
       "      <td>-0.181354</td>\n",
       "      <td>-0.329415</td>\n",
       "      <td>1.223209</td>\n",
       "      <td>-0.285763</td>\n",
       "      <td>4.480999</td>\n",
       "      <td>-0.645084</td>\n",
       "      <td>0.088754</td>\n",
       "      <td>-0.365530</td>\n",
       "      <td>-0.231848</td>\n",
       "      <td>-0.191291</td>\n",
       "      <td>0.233730</td>\n",
       "      <td>-1.118413</td>\n",
       "    </tr>\n",
       "    <tr>\n",
       "      <th>1</th>\n",
       "      <td>0.081638</td>\n",
       "      <td>-0.307974</td>\n",
       "      <td>-0.224765</td>\n",
       "      <td>-0.329415</td>\n",
       "      <td>1.223209</td>\n",
       "      <td>-0.302159</td>\n",
       "      <td>-0.550302</td>\n",
       "      <td>0.057682</td>\n",
       "      <td>0.489657</td>\n",
       "      <td>0.419517</td>\n",
       "      <td>-0.143512</td>\n",
       "      <td>-0.609845</td>\n",
       "      <td>0.016800</td>\n",
       "      <td>0.894124</td>\n",
       "    </tr>\n",
       "    <tr>\n",
       "      <th>2</th>\n",
       "      <td>-1.328394</td>\n",
       "      <td>-0.259579</td>\n",
       "      <td>-0.171336</td>\n",
       "      <td>-0.329415</td>\n",
       "      <td>-0.817522</td>\n",
       "      <td>-0.210338</td>\n",
       "      <td>2.021297</td>\n",
       "      <td>-1.196416</td>\n",
       "      <td>0.327123</td>\n",
       "      <td>-0.349727</td>\n",
       "      <td>1.164206</td>\n",
       "      <td>1.071846</td>\n",
       "      <td>0.229134</td>\n",
       "      <td>0.894124</td>\n",
       "    </tr>\n",
       "    <tr>\n",
       "      <th>3</th>\n",
       "      <td>-1.093389</td>\n",
       "      <td>0.116498</td>\n",
       "      <td>-0.214747</td>\n",
       "      <td>-0.329415</td>\n",
       "      <td>-0.817522</td>\n",
       "      <td>2.476984</td>\n",
       "      <td>-1.062963</td>\n",
       "      <td>-0.470094</td>\n",
       "      <td>0.713901</td>\n",
       "      <td>1.458809</td>\n",
       "      <td>-0.588656</td>\n",
       "      <td>-0.641878</td>\n",
       "      <td>-0.002503</td>\n",
       "      <td>0.894124</td>\n",
       "    </tr>\n",
       "    <tr>\n",
       "      <th>4</th>\n",
       "      <td>-1.328394</td>\n",
       "      <td>-0.070631</td>\n",
       "      <td>0.549950</td>\n",
       "      <td>-0.329415</td>\n",
       "      <td>1.223209</td>\n",
       "      <td>-0.251724</td>\n",
       "      <td>3.380465</td>\n",
       "      <td>-0.005135</td>\n",
       "      <td>-0.171778</td>\n",
       "      <td>-0.445940</td>\n",
       "      <td>0.272187</td>\n",
       "      <td>1.197839</td>\n",
       "      <td>2.078548</td>\n",
       "      <td>0.894124</td>\n",
       "    </tr>\n",
       "  </tbody>\n",
       "</table>\n",
       "</div>"
      ],
      "text/plain": [
       "   상장유지년도(X1)  배당성향(X3)   배당률(X4)  당기순손실여부(X5)  주당순이익감소여부(X6)  유동비율(X7)  \\\n",
       "0   -1.171724  1.888182 -0.181354    -0.329415       1.223209 -0.285763   \n",
       "1    0.081638 -0.307974 -0.224765    -0.329415       1.223209 -0.302159   \n",
       "2   -1.328394 -0.259579 -0.171336    -0.329415      -0.817522 -0.210338   \n",
       "3   -1.093389  0.116498 -0.214747    -0.329415      -0.817522  2.476984   \n",
       "4   -1.328394 -0.070631  0.549950    -0.329415       1.223209 -0.251724   \n",
       "\n",
       "   부채비율(X8)  총자산증가율(X10)  매출액증가율(X11)  매출액순이익률(X12)  총자본영업이익률(X13)  \\\n",
       "0  4.480999    -0.645084     0.088754     -0.365530      -0.231848   \n",
       "1 -0.550302     0.057682     0.489657      0.419517      -0.143512   \n",
       "2  2.021297    -1.196416     0.327123     -0.349727       1.164206   \n",
       "3 -1.062963    -0.470094     0.713901      1.458809      -0.588656   \n",
       "4  3.380465    -0.005135    -0.171778     -0.445940       0.272187   \n",
       "\n",
       "   자기자본순이익률(X14)  외국인지분율(X17)  외국인지분율변동(X18)  \n",
       "0      -0.191291     0.233730      -1.118413  \n",
       "1      -0.609845     0.016800       0.894124  \n",
       "2       1.071846     0.229134       0.894124  \n",
       "3      -0.641878    -0.002503       0.894124  \n",
       "4       1.197839     2.078548       0.894124  "
      ]
     },
     "execution_count": 199,
     "metadata": {},
     "output_type": "execute_result"
    }
   ],
   "source": [
    "# standard scaler 로 표준화\n",
    "from sklearn.preprocessing import StandardScaler\n",
    "\n",
    "InputFeature = df.iloc[:,:-1].values\n",
    "Label = df.iloc[:, -1]\n",
    "\n",
    "InputFeature = StandardScaler().fit_transform(InputFeature)\n",
    "\n",
    "features = [  '상장유지년도(X1)', '배당성향(X2)', '배당률(X3)',\n",
    "       '당기순손실여부(X4)', '주당순이익감소여부(X5)', '유동비율(X6)', '부채비율(X7)',\n",
    "       '총자산증가율(X8)', '매출액증가율(X9)', '매출액순이익률(X10)',\n",
    "       '총자본영업이익률(X11)', '자기자본순이익률(X12)', '외국인지분율(X13)',\n",
    "       '외국인지분율변동(X14)']\n",
    "df_st = pd.DataFrame(InputFeature, columns=features)\n",
    "df_st.head()"
   ]
  },
  {
   "cell_type": "code",
   "execution_count": 200,
   "id": "55176c71",
   "metadata": {},
   "outputs": [
    {
     "data": {
      "text/plain": [
       "0      0\n",
       "1      0\n",
       "2      1\n",
       "3      0\n",
       "4      0\n",
       "      ..\n",
       "393    1\n",
       "394    0\n",
       "395    0\n",
       "396    1\n",
       "397    0\n",
       "Name: 배당정책_2020(Y), Length: 398, dtype: int64"
      ]
     },
     "execution_count": 200,
     "metadata": {},
     "output_type": "execute_result"
    }
   ],
   "source": [
    "Label[ : int(len(Label) * 0.6)]"
   ]
  },
  {
   "cell_type": "code",
   "execution_count": 201,
   "id": "1189b988",
   "metadata": {},
   "outputs": [],
   "source": [
    "# train valid test set 6 : 2 : 2로 나누기\n",
    "train_x = df_st.iloc[:int(len(df_st) * 0.6), :]\n",
    "train_y = Label[ : int(len(Label) * 0.6)]\n",
    "valid_x = df_st.iloc[int(len(df_st) * 0.6) : int(len(df_st) * 0.8), :]\n",
    "valid_y = Label[int(len(Label) * 0.6): int(len(Label) * 0.8)]\n",
    "test_x = df_st.iloc[int(len(df_st) * 0.8) :, :]\n",
    "test_y = Label[int(len(Label) * 0.8) : ]"
   ]
  },
  {
   "cell_type": "code",
   "execution_count": 202,
   "id": "b2cdab89",
   "metadata": {},
   "outputs": [
    {
     "name": "stdout",
     "output_type": "stream",
     "text": [
      "(398, 14)\n",
      "(398,)\n",
      "(133, 14)\n",
      "(133,)\n",
      "(133, 14)\n",
      "(133,)\n"
     ]
    }
   ],
   "source": [
    "print(train_x.shape)\n",
    "print(train_y.shape)\n",
    "print(valid_x.shape)\n",
    "print(valid_y.shape)\n",
    "print(test_x.shape)\n",
    "print(test_y.shape)"
   ]
  },
  {
   "cell_type": "code",
   "execution_count": 203,
   "id": "5fa5c5ca",
   "metadata": {},
   "outputs": [
    {
     "name": "stdout",
     "output_type": "stream",
     "text": [
      "Epoch 1/20\n",
      "133/133 [==============================] - 1s 3ms/step - loss: 0.5992 - binary_accuracy: 0.6759 - val_loss: 0.6433 - val_binary_accuracy: 0.6466\n",
      "Epoch 2/20\n",
      "133/133 [==============================] - 0s 2ms/step - loss: 0.5623 - binary_accuracy: 0.7236 - val_loss: 0.6421 - val_binary_accuracy: 0.6466\n",
      "Epoch 3/20\n",
      "133/133 [==============================] - 0s 2ms/step - loss: 0.5502 - binary_accuracy: 0.7362 - val_loss: 0.6511 - val_binary_accuracy: 0.6617\n",
      "Epoch 4/20\n",
      "133/133 [==============================] - 0s 2ms/step - loss: 0.5491 - binary_accuracy: 0.7236 - val_loss: 0.6624 - val_binary_accuracy: 0.6541\n",
      "Epoch 5/20\n",
      "133/133 [==============================] - 0s 2ms/step - loss: 0.5392 - binary_accuracy: 0.7412 - val_loss: 0.6483 - val_binary_accuracy: 0.6767\n",
      "Epoch 6/20\n",
      "133/133 [==============================] - 0s 2ms/step - loss: 0.5365 - binary_accuracy: 0.7487 - val_loss: 0.6444 - val_binary_accuracy: 0.6617\n",
      "Epoch 7/20\n",
      "133/133 [==============================] - 0s 2ms/step - loss: 0.5263 - binary_accuracy: 0.7487 - val_loss: 0.6656 - val_binary_accuracy: 0.6617\n",
      "Epoch 8/20\n",
      "133/133 [==============================] - 0s 2ms/step - loss: 0.5301 - binary_accuracy: 0.7538 - val_loss: 0.6423 - val_binary_accuracy: 0.6842\n",
      "Epoch 9/20\n",
      "133/133 [==============================] - 0s 2ms/step - loss: 0.5249 - binary_accuracy: 0.7412 - val_loss: 0.6308 - val_binary_accuracy: 0.6767\n",
      "Epoch 10/20\n",
      "133/133 [==============================] - 0s 2ms/step - loss: 0.5172 - binary_accuracy: 0.7588 - val_loss: 0.6460 - val_binary_accuracy: 0.6917\n",
      "Epoch 11/20\n",
      "133/133 [==============================] - 0s 2ms/step - loss: 0.5090 - binary_accuracy: 0.7588 - val_loss: 0.6561 - val_binary_accuracy: 0.6617\n",
      "Epoch 12/20\n",
      "133/133 [==============================] - 0s 2ms/step - loss: 0.5011 - binary_accuracy: 0.7688 - val_loss: 0.6512 - val_binary_accuracy: 0.6767\n",
      "Epoch 13/20\n",
      "133/133 [==============================] - 0s 2ms/step - loss: 0.4914 - binary_accuracy: 0.7739 - val_loss: 0.6588 - val_binary_accuracy: 0.6692\n",
      "Epoch 14/20\n",
      "133/133 [==============================] - 0s 2ms/step - loss: 0.4822 - binary_accuracy: 0.7889 - val_loss: 0.7059 - val_binary_accuracy: 0.6466\n",
      "Epoch 15/20\n",
      "133/133 [==============================] - 0s 2ms/step - loss: 0.4804 - binary_accuracy: 0.7764 - val_loss: 0.7168 - val_binary_accuracy: 0.6617\n",
      "Epoch 16/20\n",
      "133/133 [==============================] - 0s 2ms/step - loss: 0.4735 - binary_accuracy: 0.7839 - val_loss: 0.6859 - val_binary_accuracy: 0.6917\n",
      "Epoch 17/20\n",
      "133/133 [==============================] - 0s 1ms/step - loss: 0.4665 - binary_accuracy: 0.7789 - val_loss: 0.6928 - val_binary_accuracy: 0.6617\n",
      "Epoch 18/20\n",
      "133/133 [==============================] - 0s 2ms/step - loss: 0.4540 - binary_accuracy: 0.7864 - val_loss: 0.6951 - val_binary_accuracy: 0.6842\n",
      "Epoch 19/20\n",
      "133/133 [==============================] - 0s 2ms/step - loss: 0.4467 - binary_accuracy: 0.7965 - val_loss: 0.7464 - val_binary_accuracy: 0.6767\n",
      "Epoch 20/20\n",
      "133/133 [==============================] - 0s 2ms/step - loss: 0.4450 - binary_accuracy: 0.7915 - val_loss: 0.7259 - val_binary_accuracy: 0.6617\n"
     ]
    }
   ],
   "source": [
    "# 신경망 모델 학습\n",
    "model = Sequential()\n",
    "model.add(Dense(7, activation='tanh', input_shape=(14,)))\n",
    "model.add(Dense(3, activation='tanh'))\n",
    "model.add(Dense(1, activation='sigmoid'))\n",
    "\n",
    "model.compile(loss='binary_crossentropy',optimizer=Adam(learning_rate=0.01), metrics=['binary_accuracy'])\n",
    "\n",
    "hist = model.fit(x=train_x, y=train_y, epochs=20, shuffle=True, batch_size=3, validation_data=(valid_x, valid_y))"
   ]
  },
  {
   "cell_type": "code",
   "execution_count": 204,
   "id": "9c62c9b7",
   "metadata": {},
   "outputs": [
    {
     "name": "stdout",
     "output_type": "stream",
     "text": [
      "5/5 [==============================] - 0s 2ms/step - loss: 0.6837 - binary_accuracy: 0.6316\n"
     ]
    },
    {
     "data": {
      "text/plain": [
       "[0.6836896538734436, 0.6315789222717285]"
      ]
     },
     "execution_count": 204,
     "metadata": {},
     "output_type": "execute_result"
    }
   ],
   "source": [
    "model.evaluate(test_x, test_y)"
   ]
  },
  {
   "cell_type": "code",
   "execution_count": 207,
   "id": "a2330c9b",
   "metadata": {
    "scrolled": true
   },
   "outputs": [
    {
     "data": {
      "text/plain": [
       "0    74\n",
       "1    59\n",
       "Name: 배당정책_2020(Y), dtype: int64"
      ]
     },
     "execution_count": 207,
     "metadata": {},
     "output_type": "execute_result"
    }
   ],
   "source": [
    "test_y.value_counts()"
   ]
  },
  {
   "cell_type": "code",
   "execution_count": 223,
   "id": "2d5ea56a",
   "metadata": {},
   "outputs": [
    {
     "name": "stdout",
     "output_type": "stream",
     "text": [
      "Best Threshold=0.625776, sensitivity = 0.644, specificity = 0.770, J=0.414\n",
      "              precision    recall  f1-score   support\n",
      "\n",
      "      normal       0.73      0.77      0.75        74\n",
      "    abnormal       0.69      0.64      0.67        59\n",
      "\n",
      "    accuracy                           0.71       133\n",
      "   macro avg       0.71      0.71      0.71       133\n",
      "weighted avg       0.71      0.71      0.71       133\n",
      "\n"
     ]
    }
   ],
   "source": [
    "from numpy import sqrt\n",
    "from numpy import argmax\n",
    "from sklearn.metrics import classification_report\n",
    "from sklearn.metrics import plot_roc_curve\n",
    "\n",
    "y_prob2 = model.predict(test_x)\n",
    "\n",
    "# calculate roc curves\n",
    "fpr, tpr, thresholds = roc_curve(test_y, y_prob2)\n",
    "# best threshold 를 구하고 절단\n",
    "# Youden’s J statistic. / J = Sensitivity + Specificity – 1\n",
    "J = tpr - fpr\n",
    "ix = argmax(J)\n",
    "best_thresh = thresholds[ix]\n",
    "print('Best Threshold=%f, sensitivity = %.3f, specificity = %.3f, J=%.3f' % (best_thresh, tpr[ix], 1-fpr[ix], J[ix]))\n",
    "\n",
    "y_prob_pred = (y_prob2 >= best_thresh).astype(bool)\n",
    "print(classification_report(test_y, y_prob_pred, target_names=['1', '0'], labels=[1, 0]))"
   ]
  },
  {
   "cell_type": "code",
   "execution_count": 225,
   "id": "56a0ad1b",
   "metadata": {},
   "outputs": [
    {
     "data": {
      "text/plain": [
       "array([[38, 21],\n",
       "       [17, 57]], dtype=int64)"
      ]
     },
     "execution_count": 225,
     "metadata": {},
     "output_type": "execute_result"
    }
   ],
   "source": [
    "# confusion matrix 나타내기\n",
    "confusion_matrix(test_y, y_prob_pred, labels=[1, 0])"
   ]
  },
  {
   "cell_type": "code",
   "execution_count": 227,
   "id": "ba12adae",
   "metadata": {
    "scrolled": false
   },
   "outputs": [
    {
     "data": {
      "image/png": "[encoded data removed]",
      "text/plain": [
       "<Figure size 720x432 with 1 Axes>"
      ]
     },
     "metadata": {
      "needs_background": "light"
     },
     "output_type": "display_data"
    },
    {
     "data": {
      "text/plain": [
       "<Figure size 864x504 with 0 Axes>"
      ]
     },
     "metadata": {},
     "output_type": "display_data"
    }
   ],
   "source": [
    "# roc 커브 그리고 best threshold 지점 나타내기\n",
    "import scikitplot as skplt\n",
    "from sklearn.metrics import roc_auc_score\n",
    "\n",
    "plt.figure(figsize=(10, 6))\n",
    "\n",
    "#plot roc and best threshold\n",
    "sens, spec = tpr[ix], 1-fpr[ix]\n",
    "# plot the roc curve for the model\n",
    "plt.plot([0,1], [0,1], linestyle='--', markersize=0.01, color='black')\n",
    "plt.plot(fpr, tpr, marker='.', color='black', markersize=0.05, label=\"AUC = %.2f\" % roc_auc_score(test_y, y_prob2))\n",
    "plt.scatter(fpr[ix], tpr[ix], marker='+', s=100, color='r', \n",
    "            label='Best threshold = %.3f, \\nSensitivity = %.3f, \\nSpecificity = %.3f' % (best_thresh, sens, spec))\n",
    "\n",
    "# axis labels\n",
    "plt.xlabel('False Positive Rate')\n",
    "plt.ylabel('True Positive Rate')\n",
    "plt.legend(loc=4)\n",
    "\n",
    "plt.figure(figsize=(12, 7))\n",
    "\n",
    "# show the plot\n",
    "plt.show()"
   ]
  },
  {
   "cell_type": "code",
   "execution_count": 228,
   "id": "6c09e2d7",
   "metadata": {},
   "outputs": [
    {
     "data": {
      "text/plain": [
       "0.7142857142857143"
      ]
     },
     "execution_count": 228,
     "metadata": {},
     "output_type": "execute_result"
    }
   ],
   "source": [
    "# 정확도 구하기\n",
    "from sklearn.metrics import accuracy_score\n",
    "\n",
    "accuracy_score(test_y, y_prob_pred)"
   ]
  },
  {
   "cell_type": "code",
   "execution_count": 230,
   "id": "042dfec2",
   "metadata": {},
   "outputs": [
    {
     "name": "stdout",
     "output_type": "stream",
     "text": [
      "0.7304168575355016\n"
     ]
    }
   ],
   "source": [
    "# auc 점수 구하기\n",
    "from sklearn.metrics import roc_auc_score\n",
    "\n",
    "print(roc_auc_score(test_y, model.predict(test_x)))"
   ]
  },
  {
   "cell_type": "code",
   "execution_count": null,
   "id": "820e852e",
   "metadata": {},
   "outputs": [],
   "source": []
  }
 ],
 "metadata": {
  "kernelspec": {
   "display_name": "Python 3 (ipykernel)",
   "language": "python",
   "name": "python3"
  },
  "language_info": {
   "codemirror_mode": {
    "name": "ipython",
    "version": 3
   },
   "file_extension": ".py",
   "mimetype": "text/x-python",
   "name": "python",
   "nbconvert_exporter": "python",
   "pygments_lexer": "ipython3",
   "version": "3.9.7"
  }
 },
 "nbformat": 4,
 "nbformat_minor": 5
}
